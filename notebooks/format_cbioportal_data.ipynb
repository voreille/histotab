{
 "cells": [
  {
   "cell_type": "code",
   "execution_count": 1,
   "id": "450e6923",
   "metadata": {},
   "outputs": [],
   "source": [
    "import pandas as pd\n",
    "import numpy as np\n",
    "import warnings"
   ]
  },
  {
   "cell_type": "code",
   "execution_count": 2,
   "id": "9ddb2b33",
   "metadata": {},
   "outputs": [],
   "source": [
    "def deduplicate_clinical(df, study_priority, exclude_cols=None, store_merged_columns=None):\n",
    "    df = df.copy()\n",
    "    df[\"priority\"] = df[\"Study ID\"].map(study_priority).fillna(999)\n",
    "    df_sorted = df.sort_values(by=[\"Sample ID\", \"priority\"])\n",
    "\n",
    "    if exclude_cols is None:\n",
    "        exclude_cols = []\n",
    "\n",
    "    def merge_group(group, sample_id):\n",
    "        group = group.copy()\n",
    "        group[\"Sample ID\"] = sample_id  # Inject group key manually\n",
    "        group_sorted = group.sort_values(\"priority\")\n",
    "        merged = group_sorted.iloc[0].copy()\n",
    "        contributing_studies = set([merged[\"Study ID\"]])\n",
    "        filled_columns = set()\n",
    "\n",
    "        for _, row in group_sorted.iloc[1:].iterrows():\n",
    "            contributing_studies.add(row[\"Study ID\"])\n",
    "            for col in group.columns:\n",
    "                if col in exclude_cols or col == \"priority\":\n",
    "                    continue\n",
    "                if pd.isna(merged[col]) and not pd.isna(row[col]):\n",
    "                    merged[col] = row[col]\n",
    "                    filled_columns.add(col)\n",
    "\n",
    "        merged[\"Study ID\"] = \"+\".join(\n",
    "            sorted(contributing_studies, key=lambda x: study_priority.get(x, 999))\n",
    "        )\n",
    "        if store_merged_columns:\n",
    "            merged[store_merged_columns] = (\n",
    "                \"+\".join(sorted(filled_columns)) if filled_columns else \"\"\n",
    "            )\n",
    "\n",
    "        return pd.DataFrame([merged])\n",
    "\n",
    "    deduped_df = (\n",
    "        df_sorted.groupby(\"Sample ID\", group_keys=False)\n",
    "        .apply(lambda g: merge_group(g, g.name), include_groups=False)\n",
    "        .drop(columns=[\"priority\"])\n",
    "        .reset_index(drop=True)\n",
    "    )\n",
    "\n",
    "    cols = deduped_df.columns.tolist()\n",
    "    if \"Sample ID\" in cols:\n",
    "        cols.insert(0, cols.pop(cols.index(\"Sample ID\")))\n",
    "        deduped_df = deduped_df[cols]\n",
    "\n",
    "    return deduped_df\n",
    "\n"
   ]
  },
  {
   "cell_type": "code",
   "execution_count": 3,
   "id": "37163d3b",
   "metadata": {},
   "outputs": [],
   "source": [
    "path = \"/home/val/workspaces/histotab/data/raw/combined_study_clinical_data.tsv\"\n",
    "clinical_df = pd.read_csv(path, sep=\"\\t\", low_memory=False)"
   ]
  },
  {
   "cell_type": "code",
   "execution_count": 4,
   "id": "ab2d937f",
   "metadata": {},
   "outputs": [
    {
     "data": {
      "text/plain": [
       "array(['luad_cptac_gdc', 'luad_oncosg_2020', 'luad_mskcc_2015',\n",
       "       'luad_cptac_2020', 'luad_broad', 'lung_nci_2022', 'lung_msk_2017',\n",
       "       'luad_mskcc_2023_met_organotropism', 'luad_msk_npjpo_2021',\n",
       "       'luad_mskcc_2020', 'luad_mskimpact_2021',\n",
       "       'luad_tcga_pan_can_atlas_2018', 'luad_tcga', 'luad_tcga_gdc',\n",
       "       'luad_tcga_pub'], dtype=object)"
      ]
     },
     "execution_count": 4,
     "metadata": {},
     "output_type": "execute_result"
    }
   ],
   "source": [
    "clinical_df[\"Study ID\"].unique()  # Ensure 'Study ID' is a string type"
   ]
  },
  {
   "cell_type": "code",
   "execution_count": 5,
   "id": "4e1db404",
   "metadata": {},
   "outputs": [],
   "source": [
    "clinical_df_tcga = clinical_df[clinical_df[\"Study ID\"].str.startswith(\"luad_tcga\")]\n",
    "# Drop the old 'luad_tcga_pub' study\n",
    "clinical_df_tcga = clinical_df_tcga[clinical_df_tcga[\"Study ID\"] != \"luad_tcga_pub\"]"
   ]
  },
  {
   "cell_type": "code",
   "execution_count": 6,
   "id": "c741ac77",
   "metadata": {},
   "outputs": [],
   "source": [
    "clinical_df_tcga = clinical_df_tcga.dropna(axis=1, how=\"all\", inplace=False)"
   ]
  },
  {
   "cell_type": "code",
   "execution_count": 7,
   "id": "86e5f593",
   "metadata": {},
   "outputs": [
    {
     "data": {
      "text/plain": [
       "array(['luad_tcga_pan_can_atlas_2018', 'luad_tcga', 'luad_tcga_gdc'],\n",
       "      dtype=object)"
      ]
     },
     "execution_count": 7,
     "metadata": {},
     "output_type": "execute_result"
    }
   ],
   "source": [
    "clinical_df_tcga[\"Study ID\"].unique()  # Ensure 'Study ID' is a string type"
   ]
  },
  {
   "cell_type": "code",
   "execution_count": 8,
   "id": "82d07592",
   "metadata": {},
   "outputs": [],
   "source": [
    "study_priority_tcga = {\n",
    "    \"luad_tcga_pan_can_atlas_2018\": 1,\n",
    "    \"luad_tcga\": 2,\n",
    "    \"luad_tcga_gdc\": 3,\n",
    "    # Other studies get default priority\n",
    "}\n"
   ]
  },
  {
   "cell_type": "code",
   "execution_count": 9,
   "id": "dd370387",
   "metadata": {},
   "outputs": [],
   "source": [
    "clinical_df_tcga = deduplicate_clinical(clinical_df_tcga, study_priority=study_priority_tcga)"
   ]
  },
  {
   "cell_type": "code",
   "execution_count": 10,
   "id": "7ed89d26",
   "metadata": {},
   "outputs": [],
   "source": [
    "clinical_df_tcga.to_csv(\n",
    "    \"/home/val/workspaces/histotab/data/processed/luad_tcga_clinical_data.csv\", index=False)"
   ]
  },
  {
   "cell_type": "code",
   "execution_count": 11,
   "id": "04dd5b84",
   "metadata": {},
   "outputs": [
    {
     "data": {
      "text/plain": [
       "(74,)"
      ]
     },
     "execution_count": 11,
     "metadata": {},
     "output_type": "execute_result"
    }
   ],
   "source": [
    "icdo3_col = \"International Classification of Diseases for Oncology, Third Edition ICD-O-3 Histology Code\"\n",
    "mask = clinical_df_tcga[\"Morphology\"] != clinical_df_tcga[icdo3_col]\n",
    "clinical_df_tcga.loc[mask, \"Patient ID\"].shape"
   ]
  },
  {
   "cell_type": "code",
   "execution_count": 12,
   "id": "ae394708",
   "metadata": {},
   "outputs": [],
   "source": [
    "with open('column_names.txt', 'w') as f:\n",
    "    for col in clinical_df_tcga.columns:\n",
    "        f.write(col + '\\n')"
   ]
  },
  {
   "cell_type": "code",
   "execution_count": 13,
   "id": "e3e563a3",
   "metadata": {},
   "outputs": [
    {
     "data": {
      "text/plain": [
       "array(['8140/3', '8255/3', nan, '8260/3', '8550/3', '8480/3', '8310/3',\n",
       "       '8252/3', '8253/3', '8230/3', '8507/3', '8250/3', '8490/3'],\n",
       "      dtype=object)"
      ]
     },
     "execution_count": 13,
     "metadata": {},
     "output_type": "execute_result"
    }
   ],
   "source": [
    "clinical_df_tcga[icdo3_col].unique()"
   ]
  },
  {
   "cell_type": "code",
   "execution_count": 14,
   "id": "2b2d4973",
   "metadata": {},
   "outputs": [],
   "source": [
    "histology_map = {\n",
    "    \"8140/3\": \"Adenocarcinoma, NOS\",\n",
    "    \"8255/3\": \"Adenocarcinoma with mixed subtypes\",\n",
    "    \"8260/3\": \"Papillary adenocarcinoma, NOS\",\n",
    "    \"8265/3\": \"Micropapillary carcinoma, NOS\",\n",
    "    \"8550/3\": \"Acinar cell carcinoma\",\n",
    "    \"8480/3\": \"Mucinous adenocarcinoma\",\n",
    "    \"8310/3\": \"Clear cell adenocarcinoma, NOS\",\n",
    "    \"8252/3\": \"Bronchiolo-alveolar carcinoma, non-mucinous\",\n",
    "    \"8253/3\": \"Invasive mucinous adenocarcinoma\",\n",
    "    \"8230/3\": \"Solid carcinoma, NOS\",\n",
    "    \"8507/3\": \"Invasive micropapillary carcinoma\",\n",
    "    \"8250/3\": \"Lepidic adenocarcinoma\",\n",
    "    \"8490/3\": \"Signet ring cell carcinoma\",\n",
    "    }\n",
    "\n",
    "pattern_map = {\n",
    "    \"Lepidic adenocarcinoma\": \"Lepidic\",\n",
    "    \"Bronchiolo-alveolar carcinoma, non-mucinous\": \"Lepidic\",  # older term\n",
    "    \n",
    "    \"Acinar cell carcinoma\": \"Acinar\",\n",
    "\n",
    "    \"Papillary adenocarcinoma, NOS\": \"Papillary\",\n",
    "\n",
    "    \"Solid carcinoma, NOS\": \"Solid\",\n",
    "\n",
    "    \"Invasive micropapillary carcinoma\": \"Micropapillary\",\n",
    "    \"Micropapillary carcinoma, NOS\" : \"Micropapillary\", \n",
    "\n",
    "    \"Mucinous adenocarcinoma\": \"To drop\",  # not part of 5 canonical patterns\n",
    "    \"Invasive mucinous adenocarcinoma\": \"To drop\",  # not part of 5 canonical patterns\n",
    "\n",
    "    \"Clear cell adenocarcinoma, NOS\": \"To drop\",  # not part of 5 canonical patterns\n",
    "    \"Signet ring cell carcinoma\": \"To drop\",  # not part of 5 canonical patterns\n",
    "\n",
    "    \"Adenocarcinoma with mixed subtypes\": \"Mixed\",  # optionally drop or keep as its own group\n",
    "    \"Adenocarcinoma, NOS\": \"Unknown\"  # too vague\n",
    "}"
   ]
  },
  {
   "cell_type": "code",
   "execution_count": 15,
   "id": "42926bee",
   "metadata": {},
   "outputs": [],
   "source": [
    "def map_dict(df_col, map_dict):\n",
    "    \"\"\"\n",
    "    Map values in a DataFrame column using a provided dictionary.\n",
    "    If a value is not found in the dictionary, it will be replaced with 'Value not found'.\n",
    "    \"\"\"\n",
    "    return df_col.map(lambda x: map_dict.get(x, \"Value not found\") if pd.notna(x) else pd.NA)"
   ]
  },
  {
   "cell_type": "code",
   "execution_count": 16,
   "id": "7551a78c",
   "metadata": {},
   "outputs": [],
   "source": [
    "clinical_df_tcga[\"histologic_subtype\"] = map_dict(clinical_df_tcga[\"Morphology\"], histology_map)\n",
    "clinical_df_tcga[\"histologic_subtype_icdo3\"] = map_dict(clinical_df_tcga[icdo3_col], histology_map)\n",
    "\n",
    "clinical_df_tcga[\"luad_major_pattern\"] = map_dict(clinical_df_tcga[\"histologic_subtype\"], pattern_map)\n",
    "clinical_df_tcga[\"luad_major_pattern_icdo3\"] = map_dict(clinical_df_tcga[\"histologic_subtype_icdo3\"], pattern_map)"
   ]
  },
  {
   "cell_type": "code",
   "execution_count": 17,
   "id": "d82c1700",
   "metadata": {},
   "outputs": [
    {
     "data": {
      "text/plain": [
       "(74,)"
      ]
     },
     "execution_count": 17,
     "metadata": {},
     "output_type": "execute_result"
    }
   ],
   "source": [
    "mask = clinical_df_tcga[\"histologic_subtype\"] != clinical_df_tcga[\"histologic_subtype_icdo3\"]\n",
    "clinical_df_tcga.loc[mask, \"Patient ID\"].shape"
   ]
  },
  {
   "cell_type": "code",
   "execution_count": 18,
   "id": "5dda6724",
   "metadata": {},
   "outputs": [],
   "source": [
    "clinical_df_tcga[\"luad_major_pattern\"] =  clinical_df_tcga[\"luad_major_pattern\"].fillna(\"Unknown\")\n",
    "clinical_df_tcga[\"luad_major_pattern_icdo3\"] =  clinical_df_tcga[\"luad_major_pattern_icdo3\"].fillna(\"Unknown\")"
   ]
  },
  {
   "cell_type": "code",
   "execution_count": 19,
   "id": "c4990b88",
   "metadata": {},
   "outputs": [
    {
     "data": {
      "text/plain": [
       "(np.int64(0), np.int64(0))"
      ]
     },
     "execution_count": 19,
     "metadata": {},
     "output_type": "execute_result"
    }
   ],
   "source": [
    "clinical_df_tcga[\"luad_major_pattern\"].isna().sum(), clinical_df_tcga[\"luad_major_pattern_icdo3\"].isna().sum()"
   ]
  },
  {
   "cell_type": "code",
   "execution_count": 20,
   "id": "1aba799a",
   "metadata": {},
   "outputs": [
    {
     "data": {
      "text/plain": [
       "luad_major_pattern\n",
       "Unknown           382\n",
       "Mixed             110\n",
       "Papillary          22\n",
       "Acinar             22\n",
       "Lepidic            22\n",
       "To drop            21\n",
       "Solid               6\n",
       "Micropapillary      3\n",
       "Name: count, dtype: int64"
      ]
     },
     "execution_count": 20,
     "metadata": {},
     "output_type": "execute_result"
    }
   ],
   "source": [
    "subtype_counts = clinical_df_tcga[\"luad_major_pattern\"].value_counts().sort_values(ascending=False)\n",
    "subtype_counts"
   ]
  },
  {
   "cell_type": "code",
   "execution_count": 21,
   "id": "55b4db34",
   "metadata": {},
   "outputs": [
    {
     "data": {
      "text/plain": [
       "luad_major_pattern_icdo3\n",
       "Unknown           381\n",
       "Mixed             109\n",
       "Acinar             24\n",
       "Papillary          22\n",
       "To drop            22\n",
       "Lepidic            22\n",
       "Solid               5\n",
       "Micropapillary      3\n",
       "Name: count, dtype: int64"
      ]
     },
     "execution_count": 21,
     "metadata": {},
     "output_type": "execute_result"
    }
   ],
   "source": [
    "subtype_counts = clinical_df_tcga[\"luad_major_pattern_icdo3\"].value_counts().sort_values(ascending=False)\n",
    "subtype_counts"
   ]
  },
  {
   "cell_type": "code",
   "execution_count": 22,
   "id": "207f48da",
   "metadata": {},
   "outputs": [
    {
     "data": {
      "text/html": [
       "<div>\n",
       "<style scoped>\n",
       "    .dataframe tbody tr th:only-of-type {\n",
       "        vertical-align: middle;\n",
       "    }\n",
       "\n",
       "    .dataframe tbody tr th {\n",
       "        vertical-align: top;\n",
       "    }\n",
       "\n",
       "    .dataframe thead th {\n",
       "        text-align: right;\n",
       "    }\n",
       "</style>\n",
       "<table border=\"1\" class=\"dataframe\">\n",
       "  <thead>\n",
       "    <tr style=\"text-align: right;\">\n",
       "      <th></th>\n",
       "      <th>Patient ID</th>\n",
       "      <th>luad_major_pattern</th>\n",
       "      <th>luad_major_pattern_icdo3</th>\n",
       "    </tr>\n",
       "  </thead>\n",
       "  <tbody>\n",
       "    <tr>\n",
       "      <th>361</th>\n",
       "      <td>TCGA-69-7763</td>\n",
       "      <td>Mixed</td>\n",
       "      <td>Acinar</td>\n",
       "    </tr>\n",
       "    <tr>\n",
       "      <th>368</th>\n",
       "      <td>TCGA-69-7980</td>\n",
       "      <td>Unknown</td>\n",
       "      <td>Acinar</td>\n",
       "    </tr>\n",
       "    <tr>\n",
       "      <th>387</th>\n",
       "      <td>TCGA-73-A9RS</td>\n",
       "      <td>Unknown</td>\n",
       "      <td>To drop</td>\n",
       "    </tr>\n",
       "    <tr>\n",
       "      <th>508</th>\n",
       "      <td>TCGA-95-A4VN</td>\n",
       "      <td>Solid</td>\n",
       "      <td>Unknown</td>\n",
       "    </tr>\n",
       "  </tbody>\n",
       "</table>\n",
       "</div>"
      ],
      "text/plain": [
       "       Patient ID luad_major_pattern luad_major_pattern_icdo3\n",
       "361  TCGA-69-7763              Mixed                   Acinar\n",
       "368  TCGA-69-7980            Unknown                   Acinar\n",
       "387  TCGA-73-A9RS            Unknown                  To drop\n",
       "508  TCGA-95-A4VN              Solid                  Unknown"
      ]
     },
     "execution_count": 22,
     "metadata": {},
     "output_type": "execute_result"
    }
   ],
   "source": [
    "mask = clinical_df_tcga[\"luad_major_pattern\"] == \\\n",
    "       clinical_df_tcga[\"luad_major_pattern_icdo3\"]\n",
    "clinical_df_tcga.loc[~mask, [\"Patient ID\", \"luad_major_pattern\", \"luad_major_pattern_icdo3\"]]"
   ]
  },
  {
   "cell_type": "code",
   "execution_count": 23,
   "id": "6ee36a74",
   "metadata": {},
   "outputs": [],
   "source": [
    "def merge_patterns(row):\n",
    "    a = row[\"luad_major_pattern\"]\n",
    "    b = row[\"luad_major_pattern_icdo3\"]\n",
    "    \n",
    "    if a == \"To drop\" or b == \"To drop\":\n",
    "        return \"To drop\"\n",
    "    if a == \"Unknown\": \n",
    "        return b\n",
    "    if b == \"Unknown\":\n",
    "        return a\n",
    "    if a == \"Mixed\":\n",
    "        return b\n",
    "    if b == \"Mixed\":\n",
    "        return a\n",
    "    if a == b:\n",
    "        return a\n",
    "    return \"CONFLICTS\""
   ]
  },
  {
   "cell_type": "code",
   "execution_count": 24,
   "id": "b8975443",
   "metadata": {},
   "outputs": [],
   "source": [
    "clinical_df_tcga[\"merged_major_pattern\"] = clinical_df_tcga.apply(merge_patterns, axis=1)"
   ]
  },
  {
   "cell_type": "code",
   "execution_count": 25,
   "id": "e7e2beae",
   "metadata": {},
   "outputs": [
    {
     "data": {
      "text/html": [
       "<div>\n",
       "<style scoped>\n",
       "    .dataframe tbody tr th:only-of-type {\n",
       "        vertical-align: middle;\n",
       "    }\n",
       "\n",
       "    .dataframe tbody tr th {\n",
       "        vertical-align: top;\n",
       "    }\n",
       "\n",
       "    .dataframe thead th {\n",
       "        text-align: right;\n",
       "    }\n",
       "</style>\n",
       "<table border=\"1\" class=\"dataframe\">\n",
       "  <thead>\n",
       "    <tr style=\"text-align: right;\">\n",
       "      <th></th>\n",
       "      <th>Patient ID</th>\n",
       "      <th>luad_major_pattern</th>\n",
       "      <th>luad_major_pattern_icdo3</th>\n",
       "      <th>merged_major_pattern</th>\n",
       "    </tr>\n",
       "  </thead>\n",
       "  <tbody>\n",
       "    <tr>\n",
       "      <th>361</th>\n",
       "      <td>TCGA-69-7763</td>\n",
       "      <td>Mixed</td>\n",
       "      <td>Acinar</td>\n",
       "      <td>Acinar</td>\n",
       "    </tr>\n",
       "    <tr>\n",
       "      <th>368</th>\n",
       "      <td>TCGA-69-7980</td>\n",
       "      <td>Unknown</td>\n",
       "      <td>Acinar</td>\n",
       "      <td>Acinar</td>\n",
       "    </tr>\n",
       "    <tr>\n",
       "      <th>387</th>\n",
       "      <td>TCGA-73-A9RS</td>\n",
       "      <td>Unknown</td>\n",
       "      <td>To drop</td>\n",
       "      <td>To drop</td>\n",
       "    </tr>\n",
       "    <tr>\n",
       "      <th>508</th>\n",
       "      <td>TCGA-95-A4VN</td>\n",
       "      <td>Solid</td>\n",
       "      <td>Unknown</td>\n",
       "      <td>Solid</td>\n",
       "    </tr>\n",
       "  </tbody>\n",
       "</table>\n",
       "</div>"
      ],
      "text/plain": [
       "       Patient ID luad_major_pattern luad_major_pattern_icdo3  \\\n",
       "361  TCGA-69-7763              Mixed                   Acinar   \n",
       "368  TCGA-69-7980            Unknown                   Acinar   \n",
       "387  TCGA-73-A9RS            Unknown                  To drop   \n",
       "508  TCGA-95-A4VN              Solid                  Unknown   \n",
       "\n",
       "    merged_major_pattern  \n",
       "361               Acinar  \n",
       "368               Acinar  \n",
       "387              To drop  \n",
       "508                Solid  "
      ]
     },
     "execution_count": 25,
     "metadata": {},
     "output_type": "execute_result"
    }
   ],
   "source": [
    "mask = clinical_df_tcga[\"luad_major_pattern\"] == \\\n",
    "       clinical_df_tcga[\"luad_major_pattern_icdo3\"]\n",
    "clinical_df_tcga.loc[~mask, [\"Patient ID\", \"luad_major_pattern\", \"luad_major_pattern_icdo3\", \"merged_major_pattern\"]]"
   ]
  },
  {
   "cell_type": "code",
   "execution_count": 26,
   "id": "69738755",
   "metadata": {},
   "outputs": [
    {
     "data": {
      "text/html": [
       "<div>\n",
       "<style scoped>\n",
       "    .dataframe tbody tr th:only-of-type {\n",
       "        vertical-align: middle;\n",
       "    }\n",
       "\n",
       "    .dataframe tbody tr th {\n",
       "        vertical-align: top;\n",
       "    }\n",
       "\n",
       "    .dataframe thead th {\n",
       "        text-align: right;\n",
       "    }\n",
       "</style>\n",
       "<table border=\"1\" class=\"dataframe\">\n",
       "  <thead>\n",
       "    <tr style=\"text-align: right;\">\n",
       "      <th></th>\n",
       "      <th>Patient ID</th>\n",
       "      <th>luad_major_pattern</th>\n",
       "      <th>luad_major_pattern_icdo3</th>\n",
       "      <th>merged_major_pattern</th>\n",
       "    </tr>\n",
       "  </thead>\n",
       "  <tbody>\n",
       "    <tr>\n",
       "      <th>0</th>\n",
       "      <td>TCGA-05-4244</td>\n",
       "      <td>Unknown</td>\n",
       "      <td>Unknown</td>\n",
       "      <td>Unknown</td>\n",
       "    </tr>\n",
       "    <tr>\n",
       "      <th>1</th>\n",
       "      <td>TCGA-05-4245</td>\n",
       "      <td>Unknown</td>\n",
       "      <td>Unknown</td>\n",
       "      <td>Unknown</td>\n",
       "    </tr>\n",
       "    <tr>\n",
       "      <th>2</th>\n",
       "      <td>TCGA-05-4249</td>\n",
       "      <td>Unknown</td>\n",
       "      <td>Unknown</td>\n",
       "      <td>Unknown</td>\n",
       "    </tr>\n",
       "    <tr>\n",
       "      <th>3</th>\n",
       "      <td>TCGA-05-4250</td>\n",
       "      <td>Unknown</td>\n",
       "      <td>Unknown</td>\n",
       "      <td>Unknown</td>\n",
       "    </tr>\n",
       "    <tr>\n",
       "      <th>4</th>\n",
       "      <td>TCGA-05-4382</td>\n",
       "      <td>Mixed</td>\n",
       "      <td>Mixed</td>\n",
       "      <td>Mixed</td>\n",
       "    </tr>\n",
       "    <tr>\n",
       "      <th>5</th>\n",
       "      <td>TCGA-05-4384</td>\n",
       "      <td>Mixed</td>\n",
       "      <td>Mixed</td>\n",
       "      <td>Mixed</td>\n",
       "    </tr>\n",
       "    <tr>\n",
       "      <th>6</th>\n",
       "      <td>TCGA-05-4389</td>\n",
       "      <td>Mixed</td>\n",
       "      <td>Mixed</td>\n",
       "      <td>Mixed</td>\n",
       "    </tr>\n",
       "    <tr>\n",
       "      <th>7</th>\n",
       "      <td>TCGA-05-4390</td>\n",
       "      <td>Mixed</td>\n",
       "      <td>Mixed</td>\n",
       "      <td>Mixed</td>\n",
       "    </tr>\n",
       "    <tr>\n",
       "      <th>8</th>\n",
       "      <td>TCGA-05-4395</td>\n",
       "      <td>Mixed</td>\n",
       "      <td>Mixed</td>\n",
       "      <td>Mixed</td>\n",
       "    </tr>\n",
       "    <tr>\n",
       "      <th>9</th>\n",
       "      <td>TCGA-05-4396</td>\n",
       "      <td>Mixed</td>\n",
       "      <td>Mixed</td>\n",
       "      <td>Mixed</td>\n",
       "    </tr>\n",
       "    <tr>\n",
       "      <th>10</th>\n",
       "      <td>TCGA-05-4397</td>\n",
       "      <td>Mixed</td>\n",
       "      <td>Mixed</td>\n",
       "      <td>Mixed</td>\n",
       "    </tr>\n",
       "    <tr>\n",
       "      <th>11</th>\n",
       "      <td>TCGA-05-4398</td>\n",
       "      <td>Mixed</td>\n",
       "      <td>Mixed</td>\n",
       "      <td>Mixed</td>\n",
       "    </tr>\n",
       "    <tr>\n",
       "      <th>12</th>\n",
       "      <td>TCGA-05-4402</td>\n",
       "      <td>Mixed</td>\n",
       "      <td>Mixed</td>\n",
       "      <td>Mixed</td>\n",
       "    </tr>\n",
       "    <tr>\n",
       "      <th>13</th>\n",
       "      <td>TCGA-05-4403</td>\n",
       "      <td>Mixed</td>\n",
       "      <td>Mixed</td>\n",
       "      <td>Mixed</td>\n",
       "    </tr>\n",
       "    <tr>\n",
       "      <th>14</th>\n",
       "      <td>TCGA-05-4405</td>\n",
       "      <td>Mixed</td>\n",
       "      <td>Mixed</td>\n",
       "      <td>Mixed</td>\n",
       "    </tr>\n",
       "    <tr>\n",
       "      <th>15</th>\n",
       "      <td>TCGA-05-4410</td>\n",
       "      <td>Mixed</td>\n",
       "      <td>Mixed</td>\n",
       "      <td>Mixed</td>\n",
       "    </tr>\n",
       "    <tr>\n",
       "      <th>16</th>\n",
       "      <td>TCGA-05-4415</td>\n",
       "      <td>Mixed</td>\n",
       "      <td>Mixed</td>\n",
       "      <td>Mixed</td>\n",
       "    </tr>\n",
       "    <tr>\n",
       "      <th>17</th>\n",
       "      <td>TCGA-05-4417</td>\n",
       "      <td>Mixed</td>\n",
       "      <td>Mixed</td>\n",
       "      <td>Mixed</td>\n",
       "    </tr>\n",
       "    <tr>\n",
       "      <th>18</th>\n",
       "      <td>TCGA-05-4418</td>\n",
       "      <td>Mixed</td>\n",
       "      <td>Mixed</td>\n",
       "      <td>Mixed</td>\n",
       "    </tr>\n",
       "    <tr>\n",
       "      <th>19</th>\n",
       "      <td>TCGA-05-4420</td>\n",
       "      <td>Mixed</td>\n",
       "      <td>Mixed</td>\n",
       "      <td>Mixed</td>\n",
       "    </tr>\n",
       "  </tbody>\n",
       "</table>\n",
       "</div>"
      ],
      "text/plain": [
       "      Patient ID luad_major_pattern luad_major_pattern_icdo3  \\\n",
       "0   TCGA-05-4244            Unknown                  Unknown   \n",
       "1   TCGA-05-4245            Unknown                  Unknown   \n",
       "2   TCGA-05-4249            Unknown                  Unknown   \n",
       "3   TCGA-05-4250            Unknown                  Unknown   \n",
       "4   TCGA-05-4382              Mixed                    Mixed   \n",
       "5   TCGA-05-4384              Mixed                    Mixed   \n",
       "6   TCGA-05-4389              Mixed                    Mixed   \n",
       "7   TCGA-05-4390              Mixed                    Mixed   \n",
       "8   TCGA-05-4395              Mixed                    Mixed   \n",
       "9   TCGA-05-4396              Mixed                    Mixed   \n",
       "10  TCGA-05-4397              Mixed                    Mixed   \n",
       "11  TCGA-05-4398              Mixed                    Mixed   \n",
       "12  TCGA-05-4402              Mixed                    Mixed   \n",
       "13  TCGA-05-4403              Mixed                    Mixed   \n",
       "14  TCGA-05-4405              Mixed                    Mixed   \n",
       "15  TCGA-05-4410              Mixed                    Mixed   \n",
       "16  TCGA-05-4415              Mixed                    Mixed   \n",
       "17  TCGA-05-4417              Mixed                    Mixed   \n",
       "18  TCGA-05-4418              Mixed                    Mixed   \n",
       "19  TCGA-05-4420              Mixed                    Mixed   \n",
       "\n",
       "   merged_major_pattern  \n",
       "0               Unknown  \n",
       "1               Unknown  \n",
       "2               Unknown  \n",
       "3               Unknown  \n",
       "4                 Mixed  \n",
       "5                 Mixed  \n",
       "6                 Mixed  \n",
       "7                 Mixed  \n",
       "8                 Mixed  \n",
       "9                 Mixed  \n",
       "10                Mixed  \n",
       "11                Mixed  \n",
       "12                Mixed  \n",
       "13                Mixed  \n",
       "14                Mixed  \n",
       "15                Mixed  \n",
       "16                Mixed  \n",
       "17                Mixed  \n",
       "18                Mixed  \n",
       "19                Mixed  "
      ]
     },
     "execution_count": 26,
     "metadata": {},
     "output_type": "execute_result"
    }
   ],
   "source": [
    "clinical_df_tcga.loc[mask, [\"Patient ID\", \"luad_major_pattern\", \"luad_major_pattern_icdo3\", \"merged_major_pattern\"]].head(20)"
   ]
  },
  {
   "cell_type": "code",
   "execution_count": 27,
   "id": "a219420a",
   "metadata": {},
   "outputs": [
    {
     "data": {
      "text/plain": [
       "merged_major_pattern\n",
       "Unknown           380\n",
       "Mixed             109\n",
       "Acinar             24\n",
       "Papillary          22\n",
       "To drop            22\n",
       "Lepidic            22\n",
       "Solid               6\n",
       "Micropapillary      3\n",
       "Name: count, dtype: int64"
      ]
     },
     "execution_count": 27,
     "metadata": {},
     "output_type": "execute_result"
    }
   ],
   "source": [
    "subtype_counts = clinical_df_tcga[\"merged_major_pattern\"].value_counts().sort_values(ascending=False)\n",
    "subtype_counts"
   ]
  },
  {
   "cell_type": "code",
   "execution_count": 28,
   "id": "8a8b0e3e",
   "metadata": {},
   "outputs": [],
   "source": [
    "clinical_df_tcga.drop(columns=[\"histologic_subtype\", \"histologic_subtype_icdo3\"], inplace=True)"
   ]
  },
  {
   "cell_type": "code",
   "execution_count": 29,
   "id": "6a4bfbd7",
   "metadata": {},
   "outputs": [],
   "source": [
    "clinical_df_tcga = clinical_df_tcga[~clinical_df_tcga[\"luad_major_pattern\"].isin([\"To drop\"])]"
   ]
  },
  {
   "cell_type": "code",
   "execution_count": 30,
   "id": "f925ed3d",
   "metadata": {},
   "outputs": [],
   "source": [
    "clinical_df_tcga.to_csv(\"/home/val/workspaces/histotab/data/processed/clinical_df_tcga_ded.csv\", index=False)"
   ]
  },
  {
   "cell_type": "code",
   "execution_count": 31,
   "id": "4ba472e6",
   "metadata": {},
   "outputs": [
    {
     "data": {
      "text/plain": [
       "array(['LUAD'], dtype=object)"
      ]
     },
     "execution_count": 31,
     "metadata": {},
     "output_type": "execute_result"
    }
   ],
   "source": [
    "clinical_df_tcga[\"Oncotree Code\"].unique()"
   ]
  },
  {
   "cell_type": "code",
   "execution_count": 32,
   "id": "1464ee1e",
   "metadata": {},
   "outputs": [],
   "source": [
    "clinical_col_tcga = [\n",
    "    \"Study ID\",\n",
    "    \"Patient ID\",\n",
    "    \"Sample ID\",\n",
    "    \"merged_major_pattern\",\n",
    "    \"Diagnosis Age\",\n",
    "    \"Mutation Count\",\n",
    "    \"Progress Free Survival (Months)\",\n",
    "    \"Sex\",\n",
    "    \"TMB (nonsynonymous)\",\n",
    "    \"Disease Free (Months)\",\n",
    "    \"Disease Free Status\",\n",
    "    \"Overall Survival (Months)\",\n",
    "    \"Overall Survival Status\",\n",
    "    \"Fraction Genome Altered\",\n",
    "    \"Longest Dimension\",\n",
    "    \"Shortest Dimension\",\n",
    "    \"Months of disease-specific survival\",\n",
    "    \"Disease-specific Survival status\",\n",
    "    \"Progression Free Status\",\n",
    "]"
   ]
  },
  {
   "cell_type": "code",
   "execution_count": 33,
   "id": "66630fa2",
   "metadata": {},
   "outputs": [
    {
     "data": {
      "text/plain": [
       "(567, 19)"
      ]
     },
     "execution_count": 33,
     "metadata": {},
     "output_type": "execute_result"
    }
   ],
   "source": [
    "clinical_df_tcga[clinical_col_tcga].shape"
   ]
  },
  {
   "cell_type": "code",
   "execution_count": 34,
   "id": "5ec837ea",
   "metadata": {},
   "outputs": [
    {
     "data": {
      "text/plain": [
       "array(['luad_cptac_gdc', 'luad_oncosg_2020', 'luad_mskcc_2015',\n",
       "       'luad_cptac_2020', 'luad_broad', 'lung_nci_2022', 'lung_msk_2017',\n",
       "       'luad_mskcc_2023_met_organotropism', 'luad_msk_npjpo_2021',\n",
       "       'luad_mskcc_2020', 'luad_mskimpact_2021',\n",
       "       'luad_tcga_pan_can_atlas_2018', 'luad_tcga', 'luad_tcga_gdc',\n",
       "       'luad_tcga_pub'], dtype=object)"
      ]
     },
     "execution_count": 34,
     "metadata": {},
     "output_type": "execute_result"
    }
   ],
   "source": [
    "clinical_df[\"Study ID\"].unique()  # Ensure 'Study ID' is a string type"
   ]
  },
  {
   "cell_type": "code",
   "execution_count": 35,
   "id": "b3085389",
   "metadata": {},
   "outputs": [],
   "source": [
    "clinical_df_msk = clinical_df[clinical_df[\"Study ID\"].str.startswith(\"luad_msk\")]"
   ]
  },
  {
   "cell_type": "code",
   "execution_count": 36,
   "id": "923e747f",
   "metadata": {},
   "outputs": [
    {
     "data": {
      "text/plain": [
       "array(['luad_mskcc_2015', 'luad_mskcc_2023_met_organotropism',\n",
       "       'luad_msk_npjpo_2021', 'luad_mskcc_2020', 'luad_mskimpact_2021'],\n",
       "      dtype=object)"
      ]
     },
     "execution_count": 36,
     "metadata": {},
     "output_type": "execute_result"
    }
   ],
   "source": [
    "clinical_df_msk[\"Study ID\"].unique()  # Ensure 'Study ID' is a string type"
   ]
  },
  {
   "cell_type": "code",
   "execution_count": 37,
   "id": "ba5b2bbd",
   "metadata": {},
   "outputs": [],
   "source": [
    "# Focus on MSK cancer cell 2023 (mskcc) cause lot of data \n",
    "# and mskcc_2020 cause luad patterns\n",
    "clinical_df_msk = clinical_df[\n",
    "    (clinical_df[\"Study ID\"] == \"luad_mskcc_2020\")\n",
    "    | (clinical_df[\"Study ID\"] == \"luad_mskcc_2023_met_organotropism\")\n",
    "]"
   ]
  },
  {
   "cell_type": "code",
   "execution_count": 38,
   "id": "87a8a7aa",
   "metadata": {},
   "outputs": [],
   "source": [
    "clinical_df_msk = clinical_df_msk.dropna(axis=1, how=\"all\", inplace=False)"
   ]
  },
  {
   "cell_type": "code",
   "execution_count": 39,
   "id": "df3ea1fc",
   "metadata": {},
   "outputs": [
    {
     "data": {
      "text/plain": [
       "(3257, 110)"
      ]
     },
     "execution_count": 39,
     "metadata": {},
     "output_type": "execute_result"
    }
   ],
   "source": [
    "clinical_df_msk.shape"
   ]
  },
  {
   "cell_type": "code",
   "execution_count": 40,
   "id": "1e4f2f9e",
   "metadata": {},
   "outputs": [
    {
     "data": {
      "text/plain": [
       "Predominant Histologic Subtype\n",
       "Acinar            368\n",
       "Lepidic            88\n",
       "Solid              68\n",
       "Papillary          43\n",
       "Micropapillary     37\n",
       "Name: count, dtype: int64"
      ]
     },
     "execution_count": 40,
     "metadata": {},
     "output_type": "execute_result"
    }
   ],
   "source": [
    "subtype_counts = clinical_df_msk[\"Predominant Histologic Subtype\"].value_counts().sort_values(ascending=False)\n",
    "subtype_counts"
   ]
  },
  {
   "cell_type": "code",
   "execution_count": 41,
   "id": "aa9afde7",
   "metadata": {},
   "outputs": [
    {
     "data": {
      "text/plain": [
       "Predominant Histologic Subtype.1\n",
       "Acinar            300\n",
       "Unknown           112\n",
       "Solid              93\n",
       "Lepidic            61\n",
       "Papillary          39\n",
       "Micropapillary     36\n",
       "Name: count, dtype: int64"
      ]
     },
     "execution_count": 41,
     "metadata": {},
     "output_type": "execute_result"
    }
   ],
   "source": [
    "subtype_counts = clinical_df_msk[\"Predominant Histologic Subtype.1\"].value_counts().sort_values(ascending=False)\n",
    "subtype_counts"
   ]
  },
  {
   "cell_type": "code",
   "execution_count": 42,
   "id": "0a602b56",
   "metadata": {},
   "outputs": [
    {
     "data": {
      "text/plain": [
       "Sample Type\n",
       "Metastasis    1666\n",
       "Primary        987\n",
       "Name: count, dtype: int64"
      ]
     },
     "execution_count": 42,
     "metadata": {},
     "output_type": "execute_result"
    }
   ],
   "source": [
    "clinical_df_msk[\"Sample Type\"].value_counts().sort_values(ascending=False)"
   ]
  },
  {
   "cell_type": "code",
   "execution_count": 43,
   "id": "926a3a9a",
   "metadata": {},
   "outputs": [],
   "source": [
    "study_priority_msk = {\n",
    "    \"luad_mskcc_2020\": 1,\n",
    "    \"luad_mskcc_2023_met_organotropism\": 2,\n",
    "}\n",
    "clinical_df_msk = deduplicate_clinical(\n",
    "    clinical_df_msk, study_priority=study_priority_msk,\n",
    "    )"
   ]
  },
  {
   "cell_type": "code",
   "execution_count": 44,
   "id": "03be67b2",
   "metadata": {},
   "outputs": [],
   "source": [
    "clinical_df_msk[\"Sample Type\"] = clinical_df_msk[\"Sample Type\"].fillna(\"Not Filled\")"
   ]
  },
  {
   "cell_type": "code",
   "execution_count": 45,
   "id": "805aa1c4",
   "metadata": {},
   "outputs": [
    {
     "data": {
      "text/plain": [
       "Sample Type\n",
       "Metastasis    1666\n",
       "Primary        987\n",
       "Not Filled     238\n",
       "Name: count, dtype: int64"
      ]
     },
     "execution_count": 45,
     "metadata": {},
     "output_type": "execute_result"
    }
   ],
   "source": [
    "clinical_df_msk[\"Sample Type\"].value_counts().sort_values(ascending=False)"
   ]
  },
  {
   "cell_type": "code",
   "execution_count": 46,
   "id": "906d8faf",
   "metadata": {},
   "outputs": [
    {
     "data": {
      "text/plain": [
       "(2891, 110)"
      ]
     },
     "execution_count": 46,
     "metadata": {},
     "output_type": "execute_result"
    }
   ],
   "source": [
    "clinical_df_msk.shape"
   ]
  },
  {
   "cell_type": "code",
   "execution_count": 47,
   "id": "fcb99737",
   "metadata": {},
   "outputs": [],
   "source": [
    "clinical_df_msk = clinical_df_msk[clinical_df_msk[\"Sample Type\"] != \"Metastasis\"]"
   ]
  },
  {
   "cell_type": "code",
   "execution_count": 48,
   "id": "45c0dbf1",
   "metadata": {},
   "outputs": [
    {
     "data": {
      "text/plain": [
       "array(['luad_mskcc_2020'], dtype=object)"
      ]
     },
     "execution_count": 48,
     "metadata": {},
     "output_type": "execute_result"
    }
   ],
   "source": [
    "clinical_df_msk[clinical_df_msk[\"Sample Type\"] == \"Not Filled\"][\"Study ID\"].unique()"
   ]
  },
  {
   "cell_type": "code",
   "execution_count": 49,
   "id": "eb8c3606",
   "metadata": {},
   "outputs": [],
   "source": [
    "clinical_df_msk.to_csv(\"/home/val/workspaces/histotab/data/processed/clinical_df_msk.csv\", index=False)"
   ]
  },
  {
   "cell_type": "code",
   "execution_count": 50,
   "id": "a0c15e32",
   "metadata": {},
   "outputs": [
    {
     "data": {
      "text/plain": [
       "Predominant Histologic Subtype.1\n",
       "Acinar            300\n",
       "Unknown           112\n",
       "Solid              93\n",
       "Lepidic            61\n",
       "Papillary          39\n",
       "Micropapillary     36\n",
       "Name: count, dtype: int64"
      ]
     },
     "execution_count": 50,
     "metadata": {},
     "output_type": "execute_result"
    }
   ],
   "source": [
    "clinical_df_msk[\"Predominant Histologic Subtype.1\"].value_counts().sort_values(ascending=False)"
   ]
  },
  {
   "cell_type": "code",
   "execution_count": 51,
   "id": "2635ca08",
   "metadata": {},
   "outputs": [],
   "source": [
    "# Replacing NaN values in histologic subtype columns with \"Unknown\" cause Unkown already presents\n",
    "clinical_df_msk[\"Predominant Histologic Subtype\"] = clinical_df_msk[\"Predominant Histologic Subtype\"].fillna(\"Unknown\")\n",
    "clinical_df_msk [\"Predominant Histologic Subtype.1\"] = clinical_df_msk[\"Predominant Histologic Subtype.1\"].fillna(\"Unknown\")"
   ]
  },
  {
   "cell_type": "code",
   "execution_count": 52,
   "id": "6fa6519f",
   "metadata": {},
   "outputs": [
    {
     "data": {
      "text/html": [
       "<div>\n",
       "<style scoped>\n",
       "    .dataframe tbody tr th:only-of-type {\n",
       "        vertical-align: middle;\n",
       "    }\n",
       "\n",
       "    .dataframe tbody tr th {\n",
       "        vertical-align: top;\n",
       "    }\n",
       "\n",
       "    .dataframe thead th {\n",
       "        text-align: right;\n",
       "    }\n",
       "</style>\n",
       "<table border=\"1\" class=\"dataframe\">\n",
       "  <thead>\n",
       "    <tr style=\"text-align: right;\">\n",
       "      <th></th>\n",
       "      <th>Patient ID</th>\n",
       "      <th>Predominant Histologic Subtype</th>\n",
       "      <th>Predominant Histologic Subtype.1</th>\n",
       "    </tr>\n",
       "  </thead>\n",
       "  <tbody>\n",
       "    <tr>\n",
       "      <th>7</th>\n",
       "      <td>P-0000280</td>\n",
       "      <td>Acinar</td>\n",
       "      <td>Unknown</td>\n",
       "    </tr>\n",
       "    <tr>\n",
       "      <th>8</th>\n",
       "      <td>P-0000348</td>\n",
       "      <td>Unknown</td>\n",
       "      <td>Papillary</td>\n",
       "    </tr>\n",
       "    <tr>\n",
       "      <th>10</th>\n",
       "      <td>P-0000459</td>\n",
       "      <td>Unknown</td>\n",
       "      <td>Papillary</td>\n",
       "    </tr>\n",
       "    <tr>\n",
       "      <th>20</th>\n",
       "      <td>P-0000627</td>\n",
       "      <td>Acinar</td>\n",
       "      <td>Unknown</td>\n",
       "    </tr>\n",
       "    <tr>\n",
       "      <th>26</th>\n",
       "      <td>P-0000642</td>\n",
       "      <td>Unknown</td>\n",
       "      <td>Acinar</td>\n",
       "    </tr>\n",
       "    <tr>\n",
       "      <th>...</th>\n",
       "      <td>...</td>\n",
       "      <td>...</td>\n",
       "      <td>...</td>\n",
       "    </tr>\n",
       "    <tr>\n",
       "      <th>2272</th>\n",
       "      <td>P-0040055</td>\n",
       "      <td>Unknown</td>\n",
       "      <td>Acinar</td>\n",
       "    </tr>\n",
       "    <tr>\n",
       "      <th>2274</th>\n",
       "      <td>P-0040133</td>\n",
       "      <td>Unknown</td>\n",
       "      <td>Papillary</td>\n",
       "    </tr>\n",
       "    <tr>\n",
       "      <th>2284</th>\n",
       "      <td>P-0040655</td>\n",
       "      <td>Unknown</td>\n",
       "      <td>Acinar</td>\n",
       "    </tr>\n",
       "    <tr>\n",
       "      <th>2304</th>\n",
       "      <td>P-0041217</td>\n",
       "      <td>Unknown</td>\n",
       "      <td>Papillary</td>\n",
       "    </tr>\n",
       "    <tr>\n",
       "      <th>2337</th>\n",
       "      <td>P-0042863</td>\n",
       "      <td>Unknown</td>\n",
       "      <td>Solid</td>\n",
       "    </tr>\n",
       "  </tbody>\n",
       "</table>\n",
       "<p>421 rows × 3 columns</p>\n",
       "</div>"
      ],
      "text/plain": [
       "     Patient ID Predominant Histologic Subtype  \\\n",
       "7     P-0000280                         Acinar   \n",
       "8     P-0000348                        Unknown   \n",
       "10    P-0000459                        Unknown   \n",
       "20    P-0000627                         Acinar   \n",
       "26    P-0000642                        Unknown   \n",
       "...         ...                            ...   \n",
       "2272  P-0040055                        Unknown   \n",
       "2274  P-0040133                        Unknown   \n",
       "2284  P-0040655                        Unknown   \n",
       "2304  P-0041217                        Unknown   \n",
       "2337  P-0042863                        Unknown   \n",
       "\n",
       "     Predominant Histologic Subtype.1  \n",
       "7                             Unknown  \n",
       "8                           Papillary  \n",
       "10                          Papillary  \n",
       "20                            Unknown  \n",
       "26                             Acinar  \n",
       "...                               ...  \n",
       "2272                           Acinar  \n",
       "2274                        Papillary  \n",
       "2284                           Acinar  \n",
       "2304                        Papillary  \n",
       "2337                            Solid  \n",
       "\n",
       "[421 rows x 3 columns]"
      ]
     },
     "execution_count": 52,
     "metadata": {},
     "output_type": "execute_result"
    }
   ],
   "source": [
    "mask = clinical_df_msk[\"Predominant Histologic Subtype\"] != clinical_df_msk[\"Predominant Histologic Subtype.1\"]\n",
    "clinical_df_msk.loc[mask, [\"Patient ID\", \"Predominant Histologic Subtype\", \"Predominant Histologic Subtype.1\"]]"
   ]
  },
  {
   "cell_type": "code",
   "execution_count": 53,
   "id": "d4672fa7",
   "metadata": {},
   "outputs": [
    {
     "data": {
      "text/plain": [
       "Predominant Histologic Subtype.1\n",
       "Unknown           696\n",
       "Acinar            300\n",
       "Solid              93\n",
       "Lepidic            61\n",
       "Papillary          39\n",
       "Micropapillary     36\n",
       "Name: count, dtype: int64"
      ]
     },
     "execution_count": 53,
     "metadata": {},
     "output_type": "execute_result"
    }
   ],
   "source": [
    "clinical_df_msk[\"Predominant Histologic Subtype.1\"].value_counts().sort_values(ascending=False)"
   ]
  },
  {
   "cell_type": "code",
   "execution_count": 54,
   "id": "0ee09b13",
   "metadata": {},
   "outputs": [],
   "source": [
    "def merge_patterns(row):\n",
    "    a = row[\"Predominant Histologic Subtype\"]\n",
    "    b = row[\"Predominant Histologic Subtype.1\"]\n",
    "    \n",
    "    if a == \"Unknown\":\n",
    "        return b\n",
    "    if b == \"Unknown\":\n",
    "        return a\n",
    "    if a == b:\n",
    "        return a\n",
    "    return \"CONFLICTS\""
   ]
  },
  {
   "cell_type": "code",
   "execution_count": 55,
   "id": "a2d528b5",
   "metadata": {},
   "outputs": [],
   "source": [
    "def merge_age(row):\n",
    "    a = row[\"Age At Surgery\"]\n",
    "    b = row[\"Age at Surgery/Biopsy\"]\n",
    "    \n",
    "    if pd.isna(a) and pd.isna(b):\n",
    "        return \"Not Filled\"\n",
    "    if pd.isna(a):\n",
    "        return b\n",
    "    return a"
   ]
  },
  {
   "cell_type": "code",
   "execution_count": 56,
   "id": "fb9032ae",
   "metadata": {},
   "outputs": [],
   "source": [
    "clinical_df_msk[\"merged_histologic_subtype\"] = clinical_df_msk.apply(merge_patterns, axis=1)\n",
    "clinical_df_msk[\"merged_aged\"] = clinical_df_msk.apply(merge_age, axis=1)"
   ]
  },
  {
   "cell_type": "code",
   "execution_count": 57,
   "id": "5c8c4c17",
   "metadata": {},
   "outputs": [],
   "source": [
    "clinical_cols_msk = [\n",
    "    \"Study ID\",\n",
    "    \"Patient ID\",\n",
    "    \"Sample ID\",\n",
    "    \"Age At Surgery\",  \n",
    "    \"Age at Surgery/Biopsy\",\n",
    "    \"Mutation Count\",\n",
    "    \"Sex\",\n",
    "    \"TMB (nonsynonymous)\",\n",
    "    \"Relapse Free Status (Months)\",\n",
    "    \"Relapse Free Status\",\n",
    "    \"Overall Survival (Months)\",\n",
    "    \"Overall Survival Status\",\n",
    "    \"Fraction Genome Altered\",\n",
    "    \"CT Size\",\n",
    "    \"Predominant Histologic Subtype\",\n",
    "    \"Predominant Histologic Subtype.1\",\n",
    "    \"merged_histologic_subtype\",\n",
    "    \"merged_aged\",\n",
    "]\n"
   ]
  },
  {
   "cell_type": "code",
   "execution_count": 58,
   "id": "9245f3bc",
   "metadata": {},
   "outputs": [],
   "source": [
    "clinical_df_msk = clinical_df_msk[clinical_cols_msk]"
   ]
  },
  {
   "cell_type": "code",
   "execution_count": 59,
   "id": "6bb856ae",
   "metadata": {},
   "outputs": [],
   "source": [
    "clinical_df_msk.to_csv(\"/home/val/workspaces/histotab/data/processed/clinical_df_msk_ded.csv\", index=False)"
   ]
  },
  {
   "cell_type": "code",
   "execution_count": 60,
   "id": "16c5daef",
   "metadata": {},
   "outputs": [
    {
     "data": {
      "text/plain": [
       "merged_histologic_subtype\n",
       "Acinar            454\n",
       "Unknown           448\n",
       "Solid             121\n",
       "Lepidic            96\n",
       "Papillary          54\n",
       "Micropapillary     52\n",
       "Name: count, dtype: int64"
      ]
     },
     "execution_count": 60,
     "metadata": {},
     "output_type": "execute_result"
    }
   ],
   "source": [
    "clinical_df_msk[\"merged_histologic_subtype\"].value_counts().sort_values(ascending=False)"
   ]
  },
  {
   "cell_type": "code",
   "execution_count": 61,
   "id": "4b6d18db",
   "metadata": {},
   "outputs": [
    {
     "data": {
      "text/plain": [
       "(1225, 18)"
      ]
     },
     "execution_count": 61,
     "metadata": {},
     "output_type": "execute_result"
    }
   ],
   "source": [
    "clinical_df_msk.shape"
   ]
  },
  {
   "cell_type": "code",
   "execution_count": 62,
   "id": "47e1711d",
   "metadata": {},
   "outputs": [],
   "source": [
    "gene_df = pd.read_csv(\"/home/val/workspaces/histotab/data/raw/alterations_across_samples.tsv\", sep=\"\\t\")"
   ]
  },
  {
   "cell_type": "code",
   "execution_count": 63,
   "id": "7d70715f",
   "metadata": {},
   "outputs": [],
   "source": [
    "col_to_keep = [c for c in gene_df.columns if \":\" not in c]\n",
    "gene_df = gene_df[col_to_keep]"
   ]
  },
  {
   "cell_type": "code",
   "execution_count": 64,
   "id": "e9018780",
   "metadata": {},
   "outputs": [],
   "source": [
    "# Check for missing values firs-\n",
    "if gene_df.isna().any().any():\n",
    "    raise ValueError(\"DataFrame contains NaN values please handle them before mapping.\")\n",
    "\n",
    "# Define a mapping function\n",
    "def classify_mutation(val):\n",
    "    if val == \"no alteration\":\n",
    "        return \"WT\"\n",
    "    elif val == \"not profiled\":\n",
    "        return \"not profiled\"\n",
    "    else:\n",
    "        return \"MUT\"\n",
    "\n",
    "# Apply the mapping to gene columns only (exclude non-gene metadata columns)\n",
    "non_gene_cols = [\"Study ID\", \"Sample ID\", \"Patient ID\", \"Altered\"]\n",
    "gene_cols = [col for col in gene_df.columns if col not in non_gene_cols]\n",
    "\n",
    "# Apply mapping to gene columns\n",
    "gene_df[gene_cols] = gene_df[gene_cols].map(classify_mutation)\n"
   ]
  },
  {
   "cell_type": "code",
   "execution_count": 65,
   "id": "d123613e",
   "metadata": {},
   "outputs": [
    {
     "data": {
      "text/html": [
       "<div>\n",
       "<style scoped>\n",
       "    .dataframe tbody tr th:only-of-type {\n",
       "        vertical-align: middle;\n",
       "    }\n",
       "\n",
       "    .dataframe tbody tr th {\n",
       "        vertical-align: top;\n",
       "    }\n",
       "\n",
       "    .dataframe thead th {\n",
       "        text-align: right;\n",
       "    }\n",
       "</style>\n",
       "<table border=\"1\" class=\"dataframe\">\n",
       "  <thead>\n",
       "    <tr style=\"text-align: right;\">\n",
       "      <th></th>\n",
       "      <th>Study ID</th>\n",
       "      <th>Sample ID</th>\n",
       "      <th>Patient ID</th>\n",
       "      <th>Altered</th>\n",
       "      <th>EGFR</th>\n",
       "      <th>KRAS</th>\n",
       "      <th>BRAF</th>\n",
       "      <th>TP53</th>\n",
       "      <th>PIK3CA</th>\n",
       "      <th>PTEN</th>\n",
       "      <th>...</th>\n",
       "      <th>ALK</th>\n",
       "      <th>AKT1</th>\n",
       "      <th>SMARCA4</th>\n",
       "      <th>ARID1A</th>\n",
       "      <th>ARID2</th>\n",
       "      <th>RIT1</th>\n",
       "      <th>MAP2K1</th>\n",
       "      <th>SPOP</th>\n",
       "      <th>NFE2L2</th>\n",
       "      <th>TSC2</th>\n",
       "    </tr>\n",
       "  </thead>\n",
       "  <tbody>\n",
       "    <tr>\n",
       "      <th>0</th>\n",
       "      <td>luad_broad</td>\n",
       "      <td>LU-A08-43</td>\n",
       "      <td>LU-A08-43</td>\n",
       "      <td>1</td>\n",
       "      <td>MUT</td>\n",
       "      <td>WT</td>\n",
       "      <td>WT</td>\n",
       "      <td>WT</td>\n",
       "      <td>WT</td>\n",
       "      <td>WT</td>\n",
       "      <td>...</td>\n",
       "      <td>WT</td>\n",
       "      <td>WT</td>\n",
       "      <td>WT</td>\n",
       "      <td>WT</td>\n",
       "      <td>WT</td>\n",
       "      <td>WT</td>\n",
       "      <td>WT</td>\n",
       "      <td>WT</td>\n",
       "      <td>WT</td>\n",
       "      <td>WT</td>\n",
       "    </tr>\n",
       "    <tr>\n",
       "      <th>1</th>\n",
       "      <td>luad_broad</td>\n",
       "      <td>LUAD-2GUGK</td>\n",
       "      <td>LUAD-2GUGK</td>\n",
       "      <td>1</td>\n",
       "      <td>WT</td>\n",
       "      <td>WT</td>\n",
       "      <td>WT</td>\n",
       "      <td>MUT</td>\n",
       "      <td>WT</td>\n",
       "      <td>WT</td>\n",
       "      <td>...</td>\n",
       "      <td>WT</td>\n",
       "      <td>WT</td>\n",
       "      <td>WT</td>\n",
       "      <td>WT</td>\n",
       "      <td>WT</td>\n",
       "      <td>WT</td>\n",
       "      <td>WT</td>\n",
       "      <td>WT</td>\n",
       "      <td>WT</td>\n",
       "      <td>WT</td>\n",
       "    </tr>\n",
       "    <tr>\n",
       "      <th>2</th>\n",
       "      <td>luad_broad</td>\n",
       "      <td>LUAD-5O6B5</td>\n",
       "      <td>LUAD-5O6B5</td>\n",
       "      <td>1</td>\n",
       "      <td>WT</td>\n",
       "      <td>WT</td>\n",
       "      <td>WT</td>\n",
       "      <td>MUT</td>\n",
       "      <td>WT</td>\n",
       "      <td>WT</td>\n",
       "      <td>...</td>\n",
       "      <td>WT</td>\n",
       "      <td>WT</td>\n",
       "      <td>WT</td>\n",
       "      <td>WT</td>\n",
       "      <td>WT</td>\n",
       "      <td>WT</td>\n",
       "      <td>WT</td>\n",
       "      <td>WT</td>\n",
       "      <td>WT</td>\n",
       "      <td>WT</td>\n",
       "    </tr>\n",
       "    <tr>\n",
       "      <th>3</th>\n",
       "      <td>luad_broad</td>\n",
       "      <td>LUAD-5V8LT</td>\n",
       "      <td>LUAD-5V8LT</td>\n",
       "      <td>1</td>\n",
       "      <td>WT</td>\n",
       "      <td>WT</td>\n",
       "      <td>WT</td>\n",
       "      <td>MUT</td>\n",
       "      <td>WT</td>\n",
       "      <td>WT</td>\n",
       "      <td>...</td>\n",
       "      <td>WT</td>\n",
       "      <td>WT</td>\n",
       "      <td>MUT</td>\n",
       "      <td>WT</td>\n",
       "      <td>WT</td>\n",
       "      <td>WT</td>\n",
       "      <td>WT</td>\n",
       "      <td>WT</td>\n",
       "      <td>WT</td>\n",
       "      <td>WT</td>\n",
       "    </tr>\n",
       "    <tr>\n",
       "      <th>4</th>\n",
       "      <td>luad_broad</td>\n",
       "      <td>LUAD-74TBW</td>\n",
       "      <td>LUAD-74TBW</td>\n",
       "      <td>1</td>\n",
       "      <td>MUT</td>\n",
       "      <td>WT</td>\n",
       "      <td>WT</td>\n",
       "      <td>MUT</td>\n",
       "      <td>WT</td>\n",
       "      <td>WT</td>\n",
       "      <td>...</td>\n",
       "      <td>MUT</td>\n",
       "      <td>WT</td>\n",
       "      <td>WT</td>\n",
       "      <td>WT</td>\n",
       "      <td>MUT</td>\n",
       "      <td>WT</td>\n",
       "      <td>WT</td>\n",
       "      <td>WT</td>\n",
       "      <td>WT</td>\n",
       "      <td>WT</td>\n",
       "    </tr>\n",
       "  </tbody>\n",
       "</table>\n",
       "<p>5 rows × 46 columns</p>\n",
       "</div>"
      ],
      "text/plain": [
       "     Study ID   Sample ID  Patient ID  Altered EGFR KRAS BRAF TP53 PIK3CA  \\\n",
       "0  luad_broad   LU-A08-43   LU-A08-43        1  MUT   WT   WT   WT     WT   \n",
       "1  luad_broad  LUAD-2GUGK  LUAD-2GUGK        1   WT   WT   WT  MUT     WT   \n",
       "2  luad_broad  LUAD-5O6B5  LUAD-5O6B5        1   WT   WT   WT  MUT     WT   \n",
       "3  luad_broad  LUAD-5V8LT  LUAD-5V8LT        1   WT   WT   WT  MUT     WT   \n",
       "4  luad_broad  LUAD-74TBW  LUAD-74TBW        1  MUT   WT   WT  MUT     WT   \n",
       "\n",
       "  PTEN  ...  ALK AKT1 SMARCA4 ARID1A ARID2 RIT1 MAP2K1 SPOP NFE2L2 TSC2  \n",
       "0   WT  ...   WT   WT      WT     WT    WT   WT     WT   WT     WT   WT  \n",
       "1   WT  ...   WT   WT      WT     WT    WT   WT     WT   WT     WT   WT  \n",
       "2   WT  ...   WT   WT      WT     WT    WT   WT     WT   WT     WT   WT  \n",
       "3   WT  ...   WT   WT     MUT     WT    WT   WT     WT   WT     WT   WT  \n",
       "4   WT  ...  MUT   WT      WT     WT   MUT   WT     WT   WT     WT   WT  \n",
       "\n",
       "[5 rows x 46 columns]"
      ]
     },
     "execution_count": 65,
     "metadata": {},
     "output_type": "execute_result"
    }
   ],
   "source": [
    "gene_df.head()"
   ]
  },
  {
   "cell_type": "code",
   "execution_count": 66,
   "id": "86950430",
   "metadata": {},
   "outputs": [
    {
     "data": {
      "text/plain": [
       "(1723, 46)"
      ]
     },
     "execution_count": 66,
     "metadata": {},
     "output_type": "execute_result"
    }
   ],
   "source": [
    "gene_df_tcga = gene_df[gene_df[\"Study ID\"].isin(study_priority_tcga.keys())]\n",
    "gene_df_tcga.shape"
   ]
  },
  {
   "cell_type": "code",
   "execution_count": null,
   "id": "873b869a",
   "metadata": {},
   "outputs": [],
   "source": [
    "def deduplicate_genes(df, study_priority):\n",
    "    df = df.copy()\n",
    "    df[\"priority\"] = df[\"Study ID\"].map(study_priority).fillna(999)\n",
    "    df = df.sort_values(by=[\"Sample ID\", \"priority\"])\n",
    "    df = df.drop_duplicates(subset=[\"Sample ID\"], keep=\"first\")\n",
    "    df = df.drop(columns=[\"priority\"])\n",
    "    return df"
   ]
  },
  {
   "cell_type": "code",
   "execution_count": 68,
   "id": "827a129f",
   "metadata": {},
   "outputs": [
    {
     "data": {
      "text/plain": [
       "(1723, 46)"
      ]
     },
     "execution_count": 68,
     "metadata": {},
     "output_type": "execute_result"
    }
   ],
   "source": [
    "gene_df_tcga = gene_df[gene_df[\"Study ID\"].isin(study_priority_tcga.keys())]\n",
    "gene_df_tcga.shape"
   ]
  },
  {
   "cell_type": "code",
   "execution_count": 69,
   "id": "b3f97cf9",
   "metadata": {},
   "outputs": [
    {
     "data": {
      "text/plain": [
       "(588, 46)"
      ]
     },
     "execution_count": 69,
     "metadata": {},
     "output_type": "execute_result"
    }
   ],
   "source": [
    "gene_df_tcga = deduplicate_genes(gene_df_tcga, study_priority_msk)\n",
    "gene_df_tcga.shape"
   ]
  },
  {
   "cell_type": "code",
   "execution_count": 70,
   "id": "829af27f",
   "metadata": {},
   "outputs": [
    {
     "data": {
      "text/plain": [
       "(3257, 46)"
      ]
     },
     "execution_count": 70,
     "metadata": {},
     "output_type": "execute_result"
    }
   ],
   "source": [
    "gene_df_msk = gene_df[gene_df[\"Study ID\"].isin(study_priority_msk.keys())]\n",
    "gene_df_msk.shape"
   ]
  },
  {
   "cell_type": "code",
   "execution_count": 71,
   "id": "cace6af8",
   "metadata": {},
   "outputs": [
    {
     "data": {
      "text/plain": [
       "(2891, 46)"
      ]
     },
     "execution_count": 71,
     "metadata": {},
     "output_type": "execute_result"
    }
   ],
   "source": [
    "gene_df_msk = deduplicate_genes(gene_df_msk, study_priority_msk)\n",
    "gene_df_msk.shape"
   ]
  },
  {
   "cell_type": "code",
   "execution_count": 72,
   "id": "dc301ed4",
   "metadata": {},
   "outputs": [
    {
     "data": {
      "text/plain": [
       "Index(['Sample ID', 'Study ID', 'Patient ID', 'Diagnosis Age', 'Cancer Type',\n",
       "       'Cancer Type Detailed', 'Ethnicity Category', 'Mutation Count',\n",
       "       'Oncotree Code', 'Progress Free Survival (Months)',\n",
       "       ...\n",
       "       'Tumor Break Load', 'Tissue Prospective Collection Indicator.1',\n",
       "       'Tissue Retrospective Collection Indicator.1',\n",
       "       'Tissue Source Site Code', 'Tumor Disease Anatomic Site', 'Tumor Type',\n",
       "       'Winter Hypoxia Score', 'luad_major_pattern',\n",
       "       'luad_major_pattern_icdo3', 'merged_major_pattern'],\n",
       "      dtype='object', length=128)"
      ]
     },
     "execution_count": 72,
     "metadata": {},
     "output_type": "execute_result"
    }
   ],
   "source": [
    "clinical_df_tcga.columns"
   ]
  },
  {
   "cell_type": "code",
   "execution_count": 73,
   "id": "c97c002d",
   "metadata": {},
   "outputs": [],
   "source": [
    "colname_mapping_msk = {\n",
    "    \"Sample ID\": \"Sample ID\",\n",
    "    \"Patient ID\": \"Patient ID\",\n",
    "    \"Study ID\": \"Study ID\",\n",
    "    # \"merged_age\" : \"Age\",\n",
    "    # \"Fraction Genome Altered\": \"Fraction Genome Altered\",\n",
    "    \"merged_histologic_subtype\": \"Predominant Histologic Pattern\",\n",
    "}\n",
    "colname_mapping_tcga = {\n",
    "    \"Sample ID\": \"Sample ID\",\n",
    "    \"Patient ID\": \"Patient ID\",\n",
    "    \"Study ID\": \"Study ID\",\n",
    "    \"merged_major_pattern\": \"Predominant Histologic Pattern\",\n",
    "}"
   ]
  },
  {
   "cell_type": "code",
   "execution_count": 90,
   "id": "265ffeee",
   "metadata": {},
   "outputs": [],
   "source": [
    "final_df_tcga  = clinical_df_tcga[colname_mapping_tcga.keys()]\n",
    "final_df_msk = clinical_df_msk[colname_mapping_msk.keys()]"
   ]
  },
  {
   "cell_type": "code",
   "execution_count": 91,
   "id": "eea93b54",
   "metadata": {},
   "outputs": [],
   "source": [
    "final_df_tcga.columns = [colname_mapping_tcga[c] for c in final_df_tcga.columns]\n",
    "final_df_msk.columns = [colname_mapping_msk[c] for c in final_df_msk.columns]"
   ]
  },
  {
   "cell_type": "code",
   "execution_count": 92,
   "id": "fa0fce6f",
   "metadata": {},
   "outputs": [],
   "source": [
    "def merge_dfs(gene_df, clinical_df):\n",
    "    clinical_df = clinical_df.copy()\n",
    "    clinical_df = clinical_df.sort_values(by=[\"Sample ID\"], inplace=False)\n",
    "    clinical_df = clinical_df.drop_duplicates(subset=[\"Patient ID\"], keep=\"first\", inplace=False)\n",
    "\n",
    "    gene_df = gene_df.drop(columns=[\"Altered\", \"Study ID\", \"Patient ID\"])\n",
    "    gene_df = gene_df.set_index(\"Sample ID\")\n",
    "    clinical_df = clinical_df.set_index(\"Sample ID\")\n",
    "    clinical_df  = clinical_df.join(gene_df, how=\"inner\")\n",
    "    return clinical_df"
   ]
  },
  {
   "cell_type": "code",
   "execution_count": 93,
   "id": "583ad138",
   "metadata": {},
   "outputs": [],
   "source": [
    "final_df_tcga = merge_dfs(gene_df_tcga, final_df_tcga)\n",
    "final_df_tcga.to_csv(\"/home/val/workspaces/histotab/data/processed/tcga_pattern_gene_mutations.csv\")"
   ]
  },
  {
   "cell_type": "code",
   "execution_count": 94,
   "id": "879e71ce",
   "metadata": {},
   "outputs": [],
   "source": [
    "final_df_msk = merge_dfs(gene_df_msk, final_df_msk)\n",
    "final_df_msk.to_csv(\"/home/val/workspaces/histotab/data/processed/msk_pattern_gene_mutations.csv\")"
   ]
  },
  {
   "cell_type": "code",
   "execution_count": 95,
   "id": "dcb9ccb3",
   "metadata": {},
   "outputs": [
    {
     "data": {
      "text/html": [
       "<div>\n",
       "<style scoped>\n",
       "    .dataframe tbody tr th:only-of-type {\n",
       "        vertical-align: middle;\n",
       "    }\n",
       "\n",
       "    .dataframe tbody tr th {\n",
       "        vertical-align: top;\n",
       "    }\n",
       "\n",
       "    .dataframe thead th {\n",
       "        text-align: right;\n",
       "    }\n",
       "</style>\n",
       "<table border=\"1\" class=\"dataframe\">\n",
       "  <thead>\n",
       "    <tr style=\"text-align: right;\">\n",
       "      <th></th>\n",
       "      <th>Patient ID</th>\n",
       "      <th>Study ID</th>\n",
       "      <th>Predominant Histologic Pattern</th>\n",
       "      <th>EGFR</th>\n",
       "      <th>KRAS</th>\n",
       "      <th>BRAF</th>\n",
       "      <th>TP53</th>\n",
       "      <th>PIK3CA</th>\n",
       "      <th>PTEN</th>\n",
       "      <th>RBM10</th>\n",
       "      <th>...</th>\n",
       "      <th>ALK</th>\n",
       "      <th>AKT1</th>\n",
       "      <th>SMARCA4</th>\n",
       "      <th>ARID1A</th>\n",
       "      <th>ARID2</th>\n",
       "      <th>RIT1</th>\n",
       "      <th>MAP2K1</th>\n",
       "      <th>SPOP</th>\n",
       "      <th>NFE2L2</th>\n",
       "      <th>TSC2</th>\n",
       "    </tr>\n",
       "    <tr>\n",
       "      <th>Sample ID</th>\n",
       "      <th></th>\n",
       "      <th></th>\n",
       "      <th></th>\n",
       "      <th></th>\n",
       "      <th></th>\n",
       "      <th></th>\n",
       "      <th></th>\n",
       "      <th></th>\n",
       "      <th></th>\n",
       "      <th></th>\n",
       "      <th></th>\n",
       "      <th></th>\n",
       "      <th></th>\n",
       "      <th></th>\n",
       "      <th></th>\n",
       "      <th></th>\n",
       "      <th></th>\n",
       "      <th></th>\n",
       "      <th></th>\n",
       "      <th></th>\n",
       "      <th></th>\n",
       "    </tr>\n",
       "  </thead>\n",
       "  <tbody>\n",
       "    <tr>\n",
       "      <th>P-0000208-T01-WES</th>\n",
       "      <td>P-0000208</td>\n",
       "      <td>luad_mskcc_2023_met_organotropism</td>\n",
       "      <td>Unknown</td>\n",
       "      <td>WT</td>\n",
       "      <td>WT</td>\n",
       "      <td>WT</td>\n",
       "      <td>WT</td>\n",
       "      <td>WT</td>\n",
       "      <td>WT</td>\n",
       "      <td>WT</td>\n",
       "      <td>...</td>\n",
       "      <td>WT</td>\n",
       "      <td>WT</td>\n",
       "      <td>WT</td>\n",
       "      <td>WT</td>\n",
       "      <td>WT</td>\n",
       "      <td>WT</td>\n",
       "      <td>WT</td>\n",
       "      <td>WT</td>\n",
       "      <td>WT</td>\n",
       "      <td>WT</td>\n",
       "    </tr>\n",
       "    <tr>\n",
       "      <th>P-0000219-T01-IM3</th>\n",
       "      <td>P-0000219</td>\n",
       "      <td>luad_mskcc_2020+luad_mskcc_2023_met_organotropism</td>\n",
       "      <td>Solid</td>\n",
       "      <td>MUT</td>\n",
       "      <td>WT</td>\n",
       "      <td>MUT</td>\n",
       "      <td>WT</td>\n",
       "      <td>WT</td>\n",
       "      <td>WT</td>\n",
       "      <td>WT</td>\n",
       "      <td>...</td>\n",
       "      <td>WT</td>\n",
       "      <td>WT</td>\n",
       "      <td>WT</td>\n",
       "      <td>WT</td>\n",
       "      <td>WT</td>\n",
       "      <td>WT</td>\n",
       "      <td>WT</td>\n",
       "      <td>WT</td>\n",
       "      <td>WT</td>\n",
       "      <td>WT</td>\n",
       "    </tr>\n",
       "    <tr>\n",
       "      <th>P-0000280-T01-IM3</th>\n",
       "      <td>P-0000280</td>\n",
       "      <td>luad_mskcc_2020</td>\n",
       "      <td>Acinar</td>\n",
       "      <td>MUT</td>\n",
       "      <td>WT</td>\n",
       "      <td>WT</td>\n",
       "      <td>WT</td>\n",
       "      <td>WT</td>\n",
       "      <td>WT</td>\n",
       "      <td>WT</td>\n",
       "      <td>...</td>\n",
       "      <td>WT</td>\n",
       "      <td>WT</td>\n",
       "      <td>WT</td>\n",
       "      <td>WT</td>\n",
       "      <td>WT</td>\n",
       "      <td>WT</td>\n",
       "      <td>WT</td>\n",
       "      <td>WT</td>\n",
       "      <td>WT</td>\n",
       "      <td>WT</td>\n",
       "    </tr>\n",
       "    <tr>\n",
       "      <th>P-0000348-T01-IM3</th>\n",
       "      <td>P-0000348</td>\n",
       "      <td>luad_mskcc_2023_met_organotropism</td>\n",
       "      <td>Papillary</td>\n",
       "      <td>MUT</td>\n",
       "      <td>WT</td>\n",
       "      <td>WT</td>\n",
       "      <td>MUT</td>\n",
       "      <td>WT</td>\n",
       "      <td>WT</td>\n",
       "      <td>WT</td>\n",
       "      <td>...</td>\n",
       "      <td>WT</td>\n",
       "      <td>WT</td>\n",
       "      <td>WT</td>\n",
       "      <td>WT</td>\n",
       "      <td>WT</td>\n",
       "      <td>WT</td>\n",
       "      <td>WT</td>\n",
       "      <td>WT</td>\n",
       "      <td>WT</td>\n",
       "      <td>WT</td>\n",
       "    </tr>\n",
       "    <tr>\n",
       "      <th>P-0000459-T01-IM3</th>\n",
       "      <td>P-0000459</td>\n",
       "      <td>luad_mskcc_2023_met_organotropism</td>\n",
       "      <td>Papillary</td>\n",
       "      <td>WT</td>\n",
       "      <td>WT</td>\n",
       "      <td>WT</td>\n",
       "      <td>WT</td>\n",
       "      <td>WT</td>\n",
       "      <td>WT</td>\n",
       "      <td>WT</td>\n",
       "      <td>...</td>\n",
       "      <td>WT</td>\n",
       "      <td>WT</td>\n",
       "      <td>WT</td>\n",
       "      <td>WT</td>\n",
       "      <td>MUT</td>\n",
       "      <td>WT</td>\n",
       "      <td>WT</td>\n",
       "      <td>WT</td>\n",
       "      <td>WT</td>\n",
       "      <td>WT</td>\n",
       "    </tr>\n",
       "    <tr>\n",
       "      <th>...</th>\n",
       "      <td>...</td>\n",
       "      <td>...</td>\n",
       "      <td>...</td>\n",
       "      <td>...</td>\n",
       "      <td>...</td>\n",
       "      <td>...</td>\n",
       "      <td>...</td>\n",
       "      <td>...</td>\n",
       "      <td>...</td>\n",
       "      <td>...</td>\n",
       "      <td>...</td>\n",
       "      <td>...</td>\n",
       "      <td>...</td>\n",
       "      <td>...</td>\n",
       "      <td>...</td>\n",
       "      <td>...</td>\n",
       "      <td>...</td>\n",
       "      <td>...</td>\n",
       "      <td>...</td>\n",
       "      <td>...</td>\n",
       "      <td>...</td>\n",
       "    </tr>\n",
       "    <tr>\n",
       "      <th>P-0066345-T02-IM7</th>\n",
       "      <td>P-0066345</td>\n",
       "      <td>luad_mskcc_2023_met_organotropism</td>\n",
       "      <td>Unknown</td>\n",
       "      <td>MUT</td>\n",
       "      <td>WT</td>\n",
       "      <td>WT</td>\n",
       "      <td>MUT</td>\n",
       "      <td>WT</td>\n",
       "      <td>WT</td>\n",
       "      <td>MUT</td>\n",
       "      <td>...</td>\n",
       "      <td>WT</td>\n",
       "      <td>WT</td>\n",
       "      <td>WT</td>\n",
       "      <td>WT</td>\n",
       "      <td>WT</td>\n",
       "      <td>WT</td>\n",
       "      <td>WT</td>\n",
       "      <td>WT</td>\n",
       "      <td>WT</td>\n",
       "      <td>WT</td>\n",
       "    </tr>\n",
       "    <tr>\n",
       "      <th>P-0067213-T01-IM7</th>\n",
       "      <td>P-0067213</td>\n",
       "      <td>luad_mskcc_2023_met_organotropism</td>\n",
       "      <td>Unknown</td>\n",
       "      <td>MUT</td>\n",
       "      <td>WT</td>\n",
       "      <td>WT</td>\n",
       "      <td>MUT</td>\n",
       "      <td>WT</td>\n",
       "      <td>WT</td>\n",
       "      <td>WT</td>\n",
       "      <td>...</td>\n",
       "      <td>WT</td>\n",
       "      <td>WT</td>\n",
       "      <td>WT</td>\n",
       "      <td>WT</td>\n",
       "      <td>WT</td>\n",
       "      <td>WT</td>\n",
       "      <td>WT</td>\n",
       "      <td>WT</td>\n",
       "      <td>WT</td>\n",
       "      <td>WT</td>\n",
       "    </tr>\n",
       "    <tr>\n",
       "      <th>P-0068155-T02-IM7</th>\n",
       "      <td>P-0068155</td>\n",
       "      <td>luad_mskcc_2023_met_organotropism</td>\n",
       "      <td>Unknown</td>\n",
       "      <td>WT</td>\n",
       "      <td>WT</td>\n",
       "      <td>WT</td>\n",
       "      <td>MUT</td>\n",
       "      <td>WT</td>\n",
       "      <td>WT</td>\n",
       "      <td>WT</td>\n",
       "      <td>...</td>\n",
       "      <td>MUT</td>\n",
       "      <td>WT</td>\n",
       "      <td>WT</td>\n",
       "      <td>WT</td>\n",
       "      <td>WT</td>\n",
       "      <td>WT</td>\n",
       "      <td>WT</td>\n",
       "      <td>WT</td>\n",
       "      <td>WT</td>\n",
       "      <td>WT</td>\n",
       "    </tr>\n",
       "    <tr>\n",
       "      <th>P-0069037-T01-IM7</th>\n",
       "      <td>P-0069037</td>\n",
       "      <td>luad_mskcc_2023_met_organotropism</td>\n",
       "      <td>Unknown</td>\n",
       "      <td>WT</td>\n",
       "      <td>MUT</td>\n",
       "      <td>WT</td>\n",
       "      <td>WT</td>\n",
       "      <td>WT</td>\n",
       "      <td>WT</td>\n",
       "      <td>MUT</td>\n",
       "      <td>...</td>\n",
       "      <td>WT</td>\n",
       "      <td>WT</td>\n",
       "      <td>WT</td>\n",
       "      <td>WT</td>\n",
       "      <td>WT</td>\n",
       "      <td>WT</td>\n",
       "      <td>WT</td>\n",
       "      <td>WT</td>\n",
       "      <td>WT</td>\n",
       "      <td>WT</td>\n",
       "    </tr>\n",
       "    <tr>\n",
       "      <th>P-0070129-T02-IM7</th>\n",
       "      <td>P-0070129</td>\n",
       "      <td>luad_mskcc_2023_met_organotropism</td>\n",
       "      <td>Unknown</td>\n",
       "      <td>WT</td>\n",
       "      <td>MUT</td>\n",
       "      <td>WT</td>\n",
       "      <td>MUT</td>\n",
       "      <td>WT</td>\n",
       "      <td>WT</td>\n",
       "      <td>WT</td>\n",
       "      <td>...</td>\n",
       "      <td>WT</td>\n",
       "      <td>WT</td>\n",
       "      <td>WT</td>\n",
       "      <td>WT</td>\n",
       "      <td>WT</td>\n",
       "      <td>WT</td>\n",
       "      <td>WT</td>\n",
       "      <td>WT</td>\n",
       "      <td>WT</td>\n",
       "      <td>WT</td>\n",
       "    </tr>\n",
       "  </tbody>\n",
       "</table>\n",
       "<p>1164 rows × 45 columns</p>\n",
       "</div>"
      ],
      "text/plain": [
       "                  Patient ID  \\\n",
       "Sample ID                      \n",
       "P-0000208-T01-WES  P-0000208   \n",
       "P-0000219-T01-IM3  P-0000219   \n",
       "P-0000280-T01-IM3  P-0000280   \n",
       "P-0000348-T01-IM3  P-0000348   \n",
       "P-0000459-T01-IM3  P-0000459   \n",
       "...                      ...   \n",
       "P-0066345-T02-IM7  P-0066345   \n",
       "P-0067213-T01-IM7  P-0067213   \n",
       "P-0068155-T02-IM7  P-0068155   \n",
       "P-0069037-T01-IM7  P-0069037   \n",
       "P-0070129-T02-IM7  P-0070129   \n",
       "\n",
       "                                                            Study ID  \\\n",
       "Sample ID                                                              \n",
       "P-0000208-T01-WES                  luad_mskcc_2023_met_organotropism   \n",
       "P-0000219-T01-IM3  luad_mskcc_2020+luad_mskcc_2023_met_organotropism   \n",
       "P-0000280-T01-IM3                                    luad_mskcc_2020   \n",
       "P-0000348-T01-IM3                  luad_mskcc_2023_met_organotropism   \n",
       "P-0000459-T01-IM3                  luad_mskcc_2023_met_organotropism   \n",
       "...                                                              ...   \n",
       "P-0066345-T02-IM7                  luad_mskcc_2023_met_organotropism   \n",
       "P-0067213-T01-IM7                  luad_mskcc_2023_met_organotropism   \n",
       "P-0068155-T02-IM7                  luad_mskcc_2023_met_organotropism   \n",
       "P-0069037-T01-IM7                  luad_mskcc_2023_met_organotropism   \n",
       "P-0070129-T02-IM7                  luad_mskcc_2023_met_organotropism   \n",
       "\n",
       "                  Predominant Histologic Pattern EGFR KRAS BRAF TP53 PIK3CA  \\\n",
       "Sample ID                                                                     \n",
       "P-0000208-T01-WES                        Unknown   WT   WT   WT   WT     WT   \n",
       "P-0000219-T01-IM3                          Solid  MUT   WT  MUT   WT     WT   \n",
       "P-0000280-T01-IM3                         Acinar  MUT   WT   WT   WT     WT   \n",
       "P-0000348-T01-IM3                      Papillary  MUT   WT   WT  MUT     WT   \n",
       "P-0000459-T01-IM3                      Papillary   WT   WT   WT   WT     WT   \n",
       "...                                          ...  ...  ...  ...  ...    ...   \n",
       "P-0066345-T02-IM7                        Unknown  MUT   WT   WT  MUT     WT   \n",
       "P-0067213-T01-IM7                        Unknown  MUT   WT   WT  MUT     WT   \n",
       "P-0068155-T02-IM7                        Unknown   WT   WT   WT  MUT     WT   \n",
       "P-0069037-T01-IM7                        Unknown   WT  MUT   WT   WT     WT   \n",
       "P-0070129-T02-IM7                        Unknown   WT  MUT   WT  MUT     WT   \n",
       "\n",
       "                  PTEN RBM10  ...  ALK AKT1 SMARCA4 ARID1A ARID2 RIT1 MAP2K1  \\\n",
       "Sample ID                     ...                                              \n",
       "P-0000208-T01-WES   WT    WT  ...   WT   WT      WT     WT    WT   WT     WT   \n",
       "P-0000219-T01-IM3   WT    WT  ...   WT   WT      WT     WT    WT   WT     WT   \n",
       "P-0000280-T01-IM3   WT    WT  ...   WT   WT      WT     WT    WT   WT     WT   \n",
       "P-0000348-T01-IM3   WT    WT  ...   WT   WT      WT     WT    WT   WT     WT   \n",
       "P-0000459-T01-IM3   WT    WT  ...   WT   WT      WT     WT   MUT   WT     WT   \n",
       "...                ...   ...  ...  ...  ...     ...    ...   ...  ...    ...   \n",
       "P-0066345-T02-IM7   WT   MUT  ...   WT   WT      WT     WT    WT   WT     WT   \n",
       "P-0067213-T01-IM7   WT    WT  ...   WT   WT      WT     WT    WT   WT     WT   \n",
       "P-0068155-T02-IM7   WT    WT  ...  MUT   WT      WT     WT    WT   WT     WT   \n",
       "P-0069037-T01-IM7   WT   MUT  ...   WT   WT      WT     WT    WT   WT     WT   \n",
       "P-0070129-T02-IM7   WT    WT  ...   WT   WT      WT     WT    WT   WT     WT   \n",
       "\n",
       "                  SPOP NFE2L2 TSC2  \n",
       "Sample ID                           \n",
       "P-0000208-T01-WES   WT     WT   WT  \n",
       "P-0000219-T01-IM3   WT     WT   WT  \n",
       "P-0000280-T01-IM3   WT     WT   WT  \n",
       "P-0000348-T01-IM3   WT     WT   WT  \n",
       "P-0000459-T01-IM3   WT     WT   WT  \n",
       "...                ...    ...  ...  \n",
       "P-0066345-T02-IM7   WT     WT   WT  \n",
       "P-0067213-T01-IM7   WT     WT   WT  \n",
       "P-0068155-T02-IM7   WT     WT   WT  \n",
       "P-0069037-T01-IM7   WT     WT   WT  \n",
       "P-0070129-T02-IM7   WT     WT   WT  \n",
       "\n",
       "[1164 rows x 45 columns]"
      ]
     },
     "execution_count": 95,
     "metadata": {},
     "output_type": "execute_result"
    }
   ],
   "source": [
    "\n",
    "final_df_msk"
   ]
  },
  {
   "cell_type": "code",
   "execution_count": null,
   "id": "aa72d656",
   "metadata": {},
   "outputs": [],
   "source": []
  }
 ],
 "metadata": {
  "kernelspec": {
   "display_name": "torch",
   "language": "python",
   "name": "python3"
  },
  "language_info": {
   "codemirror_mode": {
    "name": "ipython",
    "version": 3
   },
   "file_extension": ".py",
   "mimetype": "text/x-python",
   "name": "python",
   "nbconvert_exporter": "python",
   "pygments_lexer": "ipython3",
   "version": "3.12.7"
  }
 },
 "nbformat": 4,
 "nbformat_minor": 5
}
