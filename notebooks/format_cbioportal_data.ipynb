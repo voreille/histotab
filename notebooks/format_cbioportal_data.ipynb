{
 "cells": [
  {
   "cell_type": "code",
   "execution_count": 1,
   "id": "450e6923",
   "metadata": {},
   "outputs": [],
   "source": [
    "import pandas as pd\n",
    "import numpy as np\n",
    "import warnings"
   ]
  },
  {
   "cell_type": "code",
   "execution_count": 2,
   "id": "37163d3b",
   "metadata": {},
   "outputs": [],
   "source": [
    "path = \"/home/val/workspaces/histotab/data/raw/combined_study_clinical_data.tsv\"\n",
    "clinical_df = pd.read_csv(path, sep=\"\\t\", low_memory=False)"
   ]
  },
  {
   "cell_type": "code",
   "execution_count": 3,
   "id": "ab2d937f",
   "metadata": {},
   "outputs": [
    {
     "data": {
      "text/plain": [
       "array(['luad_cptac_gdc', 'luad_oncosg_2020', 'luad_mskcc_2015',\n",
       "       'luad_cptac_2020', 'luad_broad', 'lung_nci_2022', 'lung_msk_2017',\n",
       "       'luad_mskcc_2023_met_organotropism', 'luad_msk_npjpo_2021',\n",
       "       'luad_mskcc_2020', 'luad_mskimpact_2021',\n",
       "       'luad_tcga_pan_can_atlas_2018', 'luad_tcga', 'luad_tcga_gdc',\n",
       "       'luad_tcga_pub'], dtype=object)"
      ]
     },
     "execution_count": 3,
     "metadata": {},
     "output_type": "execute_result"
    }
   ],
   "source": [
    "clinical_df[\"Study ID\"].unique()  # Ensure 'Study ID' is a string type"
   ]
  },
  {
   "cell_type": "code",
   "execution_count": 4,
   "id": "4e1db404",
   "metadata": {},
   "outputs": [],
   "source": [
    "clinical_df_tcga = clinical_df[clinical_df[\"Study ID\"].str.startswith(\"luad_tcga\")]\n",
    "clinical_df_tcga = clinical_df_tcga[clinical_df_tcga[\"Study ID\"] != \"luad_tcga_pub\"]"
   ]
  },
  {
   "cell_type": "code",
   "execution_count": 5,
   "id": "c741ac77",
   "metadata": {},
   "outputs": [],
   "source": [
    "clinical_df_tcga = clinical_df_tcga.dropna(axis=1, how=\"all\", inplace=False)"
   ]
  },
  {
   "cell_type": "code",
   "execution_count": 6,
   "id": "86e5f593",
   "metadata": {},
   "outputs": [
    {
     "data": {
      "text/plain": [
       "array(['luad_tcga_pan_can_atlas_2018', 'luad_tcga', 'luad_tcga_gdc'],\n",
       "      dtype=object)"
      ]
     },
     "execution_count": 6,
     "metadata": {},
     "output_type": "execute_result"
    }
   ],
   "source": [
    "clinical_df_tcga[\"Study ID\"].unique()  # Ensure 'Study ID' is a string type"
   ]
  },
  {
   "cell_type": "code",
   "execution_count": 7,
   "id": "e04617ce",
   "metadata": {},
   "outputs": [],
   "source": [
    "def deduplicate_clinical(df, study_priority):\n",
    "\n",
    "    # Assign priority to each row\n",
    "    df[\"priority\"] = df[\"Study ID\"].map(study_priority).fillna(999)\n",
    "\n",
    "    # Sort by priority (lower is better), then keep the first for each Sample ID\n",
    "    df_sorted = df.sort_values(by=[\"Sample ID\", \"priority\"])\n",
    "    deduped_df = df_sorted.drop_duplicates(subset=\"Sample ID\", keep=\"first\")\n",
    "\n",
    "        # Group by Sample ID and reduce\n",
    "    def merge_group(group):\n",
    "        # Sort by priority\n",
    "        group_sorted = group.sort_values(\"priority\")\n",
    "        # Start from the highest-priority row\n",
    "        merged = group_sorted.iloc[0].copy()\n",
    "        # Fill missing values from lower-priority rows\n",
    "        for _, row in group_sorted.iloc[1:].iterrows():\n",
    "            for col in merged.index:\n",
    "                if pd.isna(merged[col]) and not pd.isna(row[col]):\n",
    "                    merged[col] = row[col]\n",
    "        return merged\n",
    "\n",
    "    deduped_df = df_sorted.groupby(\"Sample ID\", group_keys=False).apply(merge_group)\n",
    "\n",
    "    # Drop helper column\n",
    "    deduped_df = deduped_df.drop(columns=\"priority\")\n",
    "\n",
    "    return deduped_df"
   ]
  },
  {
   "cell_type": "code",
   "execution_count": 8,
   "id": "82d07592",
   "metadata": {},
   "outputs": [
    {
     "name": "stderr",
     "output_type": "stream",
     "text": [
      "/tmp/ipykernel_1308732/2814830280.py:23: DeprecationWarning: DataFrameGroupBy.apply operated on the grouping columns. This behavior is deprecated, and in a future version of pandas the grouping columns will be excluded from the operation. Either pass `include_groups=False` to exclude the groupings or explicitly select the grouping columns after groupby to silence this warning.\n",
      "  deduped_df = df_sorted.groupby(\"Sample ID\", group_keys=False).apply(merge_group)\n"
     ]
    }
   ],
   "source": [
    "study_priority = {\n",
    "    \"luad_tcga_pan_can_atlas_2018\": 1,\n",
    "    \"luad_tcga\": 2,\n",
    "    \"luad_tcga_luad_gdc\": 3,\n",
    "    # Other studies get default priority\n",
    "}\n",
    "\n",
    "clinical_df_tcga = deduplicate_clinical(\n",
    "    clinical_df_tcga, study_priority=study_priority,\n",
    ")"
   ]
  },
  {
   "cell_type": "code",
   "execution_count": 15,
   "id": "e5549548",
   "metadata": {},
   "outputs": [],
   "source": [
    "def merge_columns_with_conflict_warning(df, col1, col2, new_col):\n",
    "    def merge_row(row):\n",
    "        val1 = row[col1]\n",
    "        val2 = row[col2]\n",
    "        if pd.isna(val1) and pd.isna(val2):\n",
    "            return pd.NA\n",
    "        if pd.isna(val1):\n",
    "            return val2\n",
    "        if pd.isna(val2):\n",
    "            return val1\n",
    "        if val1 == val2:\n",
    "            return val1\n",
    "        # If values conflict\n",
    "        warnings.warn(f\"Conflict: '{val1}' != '{val2}' in row with index {row.name}\")\n",
    "        return val1  # or raise Exception / keep val1 or val2 arbitrarily\n",
    "    \n",
    "    df[new_col] = df.apply(merge_row, axis=1)\n",
    "    return df"
   ]
  },
  {
   "cell_type": "code",
   "execution_count": 16,
   "id": "2ab58eb1",
   "metadata": {},
   "outputs": [
    {
     "name": "stderr",
     "output_type": "stream",
     "text": [
      "/tmp/ipykernel_1308732/3298105108.py:14: UserWarning: Conflict: '8255/3' != '8550/3' in row with index TCGA-69-7763-01\n",
      "  warnings.warn(f\"Conflict: '{val1}' != '{val2}' in row with index {row.name}\")\n",
      "/tmp/ipykernel_1308732/3298105108.py:14: UserWarning: Conflict: '8140/3' != '8550/3' in row with index TCGA-69-7980-01\n",
      "  warnings.warn(f\"Conflict: '{val1}' != '{val2}' in row with index {row.name}\")\n",
      "/tmp/ipykernel_1308732/3298105108.py:14: UserWarning: Conflict: '8265/3' != '8507/3' in row with index TCGA-73-4668-01\n",
      "  warnings.warn(f\"Conflict: '{val1}' != '{val2}' in row with index {row.name}\")\n",
      "/tmp/ipykernel_1308732/3298105108.py:14: UserWarning: Conflict: '8140/3' != '8480/3' in row with index TCGA-73-A9RS-01\n",
      "  warnings.warn(f\"Conflict: '{val1}' != '{val2}' in row with index {row.name}\")\n",
      "/tmp/ipykernel_1308732/3298105108.py:14: UserWarning: Conflict: '8265/3' != '8507/3' in row with index TCGA-75-6212-01\n",
      "  warnings.warn(f\"Conflict: '{val1}' != '{val2}' in row with index {row.name}\")\n",
      "/tmp/ipykernel_1308732/3298105108.py:14: UserWarning: Conflict: '8230/3' != '8140/3' in row with index TCGA-95-A4VN-01\n",
      "  warnings.warn(f\"Conflict: '{val1}' != '{val2}' in row with index {row.name}\")\n",
      "/tmp/ipykernel_1308732/3298105108.py:14: UserWarning: Conflict: '8265/3' != '8507/3' in row with index TCGA-97-7937-01\n",
      "  warnings.warn(f\"Conflict: '{val1}' != '{val2}' in row with index {row.name}\")\n"
     ]
    }
   ],
   "source": [
    "clinical_df_tcga = merge_columns_with_conflict_warning(\n",
    "    clinical_df_tcga,\n",
    "    \"Morphology\",\n",
    "    \"International Classification of Diseases for Oncology, Third Edition ICD-O-3 Histology Code\",\n",
    "    \"Morphology\",\n",
    ")"
   ]
  },
  {
   "cell_type": "code",
   "execution_count": 14,
   "id": "04dd5b84",
   "metadata": {},
   "outputs": [
    {
     "data": {
      "text/plain": [
       "Sample ID\n",
       "TCGA-05-4245-01    TCGA-05-4245\n",
       "TCGA-17-Z000-01    TCGA-17-Z000\n",
       "TCGA-17-Z001-01    TCGA-17-Z001\n",
       "TCGA-17-Z002-01    TCGA-17-Z002\n",
       "TCGA-17-Z003-01    TCGA-17-Z003\n",
       "Name: Patient ID, dtype: object"
      ]
     },
     "execution_count": 14,
     "metadata": {},
     "output_type": "execute_result"
    }
   ],
   "source": [
    "mask = clinical_df_tcga[\"Morphology\"] == clinical_df_tcga[\"International Classification of Diseases for Oncology, Third Edition ICD-O-3 Histology Code\"]\n",
    "clinical_df_tcga.loc[~mask, \"Patient ID\"].head() "
   ]
  },
  {
   "cell_type": "code",
   "execution_count": 9,
   "id": "f925ed3d",
   "metadata": {},
   "outputs": [],
   "source": [
    "clinical_df_tcga.to_csv(\"/home/val/workspaces/histotab/data/processed/clinical_df_tcga_ded.csv\", index=False)"
   ]
  },
  {
   "cell_type": "code",
   "execution_count": null,
   "id": "ae394708",
   "metadata": {},
   "outputs": [],
   "source": [
    "with open('column_names.txt', 'w') as f:\n",
    "    for col in clinical_df_tcga.columns:\n",
    "        f.write(col + '\\n')"
   ]
  },
  {
   "cell_type": "code",
   "execution_count": 26,
   "id": "2b2d4973",
   "metadata": {},
   "outputs": [],
   "source": [
    "histology_map = {\n",
    "    \"8140/3\": \"Adenocarcinoma, NOS\",\n",
    "    \"8255/3\": \"Adenocarcinoma with mixed subtypes\",\n",
    "    \"8260/3\": \"Papillary adenocarcinoma, NOS\",\n",
    "    \"8265/3\": \"Micropapillary carcinoma, NOS\",\n",
    "    \"8550/3\": \"Acinar cell carcinoma\",\n",
    "    \"8480/3\": \"Mucinous adenocarcinoma\",\n",
    "    \"8310/3\": \"Clear cell adenocarcinoma, NOS\",\n",
    "    \"8252/3\": \"Bronchiolo-alveolar carcinoma, non-mucinous\",\n",
    "    \"8253/3\": \"Invasive mucinous adenocarcinoma\",\n",
    "    \"8230/3\": \"Solid carcinoma, NOS\",\n",
    "    \"8507/3\": \"Invasive micropapillary carcinoma\",\n",
    "    \"8250/3\": \"Lepidic adenocarcinoma\",\n",
    "    \"8490/3\": \"Signet ring cell carcinoma\",\n",
    "    }\n",
    "\n",
    "pattern_map = {\n",
    "    \"Lepidic adenocarcinoma\": \"Lepidic\",\n",
    "    \"Bronchiolo-alveolar carcinoma, non-mucinous\": \"Lepidic\",  # older term\n",
    "    \n",
    "    \"Acinar cell carcinoma\": \"Acinar\",\n",
    "\n",
    "    \"Papillary adenocarcinoma, NOS\": \"Papillary\",\n",
    "\n",
    "    \"Solid carcinoma, NOS\": \"Solid\",\n",
    "\n",
    "    \"Invasive micropapillary carcinoma\": \"Micropapillary\",\n",
    "    \"Micropapillary carcinoma, NOS\" : \"Micropapillary\", \n",
    "\n",
    "    \"Mucinous adenocarcinoma\": \"To drop\",  # not part of 5 canonical patterns\n",
    "    \"Invasive mucinous adenocarcinoma\": \"To drop\",  # not part of 5 canonical patterns\n",
    "\n",
    "    \"Clear cell adenocarcinoma, NOS\": \"To drop\",  # not part of 5 canonical patterns\n",
    "    \"Signet ring cell carcinoma\": \"To drop\",  # not part of 5 canonical patterns\n",
    "\n",
    "    \"Adenocarcinoma with mixed subtypes\": \"Mixed\",  # optionally drop or keep as its own group\n",
    "    \"Adenocarcinoma, NOS\": None  # too vague\n",
    "}"
   ]
  },
  {
   "cell_type": "code",
   "execution_count": 27,
   "id": "7551a78c",
   "metadata": {},
   "outputs": [],
   "source": [
    "clinical_df_tcga[\"histologic_subtype\"] = clinical_df_tcga[\"Morphology\"].map(histology_map)\n",
    "clinical_df_tcga[\"luad_major_pattern\"] = clinical_df_tcga[\"histologic_subtype\"].map(pattern_map)"
   ]
  },
  {
   "cell_type": "code",
   "execution_count": 28,
   "id": "1aba799a",
   "metadata": {},
   "outputs": [
    {
     "data": {
      "text/plain": [
       "luad_major_pattern\n",
       "Mixed             110\n",
       "Papillary          22\n",
       "Acinar             22\n",
       "Lepidic            22\n",
       "To drop            21\n",
       "Solid               6\n",
       "Micropapillary      3\n",
       "Name: count, dtype: int64"
      ]
     },
     "execution_count": 28,
     "metadata": {},
     "output_type": "execute_result"
    }
   ],
   "source": [
    "subtype_counts = clinical_df_tcga[\"luad_major_pattern\"].value_counts().sort_values(ascending=False)\n",
    "subtype_counts"
   ]
  },
  {
   "cell_type": "code",
   "execution_count": 22,
   "id": "6a4bfbd7",
   "metadata": {},
   "outputs": [],
   "source": [
    "clinical_df_tcga = clinical_df_tcga[~clinical_df_tcga[\"luad_major_pattern\"].isin([\"To drop\"])]"
   ]
  },
  {
   "cell_type": "code",
   "execution_count": null,
   "id": "5ec837ea",
   "metadata": {},
   "outputs": [],
   "source": [
    "clinical_df_tcga.shape"
   ]
  },
  {
   "cell_type": "code",
   "execution_count": null,
   "id": "47e1711d",
   "metadata": {},
   "outputs": [],
   "source": [
    "gene_df = pd.read_csv(\"/home/val/workspaces/histotab/data/raw/alterations_across_samples.tsv\", sep=\"\\t\")\n"
   ]
  },
  {
   "cell_type": "code",
   "execution_count": null,
   "id": "d52a5ab1",
   "metadata": {},
   "outputs": [],
   "source": [
    "study_priority = {\n",
    "    \"tcga_pan_can_atlas_2018\": 1,\n",
    "    \"tcga_luad_gdc\": 2,\n",
    "    \"tcga_luad\": 3,\n",
    "    \"cptac_2020\": 1,\n",
    "    \"cptac_3_luad\": 2,\n",
    "    # Other studies get default priority\n",
    "}\n"
   ]
  },
  {
   "cell_type": "code",
   "execution_count": null,
   "id": "37f5a521",
   "metadata": {},
   "outputs": [],
   "source": [
    "clinical_df[\"priority\"] = clinical_df[\"Study ID\"].map(study_priority).fillna(100)"
   ]
  },
  {
   "cell_type": "code",
   "execution_count": null,
   "id": "ea84bedb",
   "metadata": {},
   "outputs": [],
   "source": [
    "clinical_df = (\n",
    "    clinical_df.sort_values(\"priority\")\n",
    "    .drop_duplicates(subset=[\"Patient ID\", \"Sample ID\"], keep=\"first\")\n",
    "    .drop(columns=[\"priority\"])\n",
    ")\n"
   ]
  },
  {
   "cell_type": "code",
   "execution_count": null,
   "id": "827a129f",
   "metadata": {},
   "outputs": [],
   "source": []
  }
 ],
 "metadata": {
  "kernelspec": {
   "display_name": "torch",
   "language": "python",
   "name": "python3"
  },
  "language_info": {
   "codemirror_mode": {
    "name": "ipython",
    "version": 3
   },
   "file_extension": ".py",
   "mimetype": "text/x-python",
   "name": "python",
   "nbconvert_exporter": "python",
   "pygments_lexer": "ipython3",
   "version": "3.12.2"
  }
 },
 "nbformat": 4,
 "nbformat_minor": 5
}
