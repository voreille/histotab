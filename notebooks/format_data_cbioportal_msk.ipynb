{
 "cells": [
  {
   "cell_type": "markdown",
   "id": "43cabca8",
   "metadata": {},
   "source": [
    "# Notebook to format gene and clinical data for the TCGA LUAD Cohort\n",
    "\n",
    "Here we will choose the GDC version of the data (apparently PanCancer might be better), but for consitency with CPTAC\n",
    "\n",
    "The goal of this notebook is to format the data in a simple table whose rows are patient_id and column (gene mutation status + clinical)\n",
    "\n",
    "Things to do:\n",
    " - [ ] Select which cohorts to download\n",
    " - [ ] Download all the data from cBioPortal\n",
    " - [ ] Download the gene data from cBioPortal by querying the list in 'gene_query.txt'\n",
    " - [ ] Format the data"
   ]
  },
  {
   "cell_type": "code",
   "execution_count": 1,
   "id": "db8db8ff",
   "metadata": {},
   "outputs": [],
   "source": [
    "import pandas as pd"
   ]
  },
  {
   "cell_type": "code",
   "execution_count": 30,
   "id": "68fc5c7b",
   "metadata": {},
   "outputs": [],
   "source": [
    "# df_clinical = pd.read_csv(\"/home/val/workspaces/histotab/data/raw/TCGA_LUAD/luad_tcga_firehose_legacy/data_clinical_patient.txt\", sep=\"\\t\", comment=\"#\", skip_blank_lines=True)\n",
    "# df_clinical = pd.read_csv(\"/home/val/workspaces/histotab/data/raw/TCGA_LUAD/luad_tcga_gdc/data_clinical_patient.txt\", sep=\"\\t\", comment=\"#\", skip_blank_lines=True)\n",
    "df_clinical = pd.read_csv(\"/home/val/workspaces/histotab/data/raw/TCGA_LUAD/luad_tcga_pan_can_atlas_2018/data_clinical_patient.txt\", sep=\"\\t\", comment=\"#\", skip_blank_lines=True)"
   ]
  },
  {
   "cell_type": "code",
   "execution_count": 31,
   "id": "c139fdc9",
   "metadata": {},
   "outputs": [],
   "source": [
    "morhpology_col = \"ICD_O_3_HISTOLOGY\"\n",
    "# morhpology_col = \"MORPHOLOGY\""
   ]
  },
  {
   "cell_type": "code",
   "execution_count": 32,
   "id": "cf49e9f3",
   "metadata": {},
   "outputs": [
    {
     "data": {
      "text/plain": [
       "array(['8140/3', '8255/3', '8550/3', '8480/3', '8260/3', '8310/3',\n",
       "       '8252/3', '8253/3', '8230/3', '8507/3', '8250/3', '8490/3', nan],\n",
       "      dtype=object)"
      ]
     },
     "execution_count": 32,
     "metadata": {},
     "output_type": "execute_result"
    }
   ],
   "source": [
    "df_clinical.loc[:,morhpology_col].unique()"
   ]
  },
  {
   "cell_type": "code",
   "execution_count": 33,
   "id": "2ea38d3a",
   "metadata": {},
   "outputs": [],
   "source": [
    "histology_map = {\n",
    "    \"8140/3\": \"Adenocarcinoma, NOS\",\n",
    "    \"8255/3\": \"Adenocarcinoma with mixed subtypes\",\n",
    "    \"8260/3\": \"Papillary adenocarcinoma, NOS\",\n",
    "    \"8550/3\": \"Acinar cell carcinoma\",\n",
    "    \"8480/3\": \"Mucinous adenocarcinoma\",\n",
    "    \"8310/3\": \"Clear cell adenocarcinoma, NOS\",\n",
    "    \"8252/3\": \"Bronchiolo-alveolar carcinoma, non-mucinous\",\n",
    "    \"8253/3\": \"Invasive mucinous adenocarcinoma\",\n",
    "    \"8230/3\": \"Solid carcinoma, NOS\",\n",
    "    \"8507/3\": \"Invasive micropapillary carcinoma\",\n",
    "    \"8250/3\": \"Lepidic adenocarcinoma\",\n",
    "    \"8490/3\": \"Signet ring cell carcinoma\",\n",
    "    }"
   ]
  },
  {
   "cell_type": "code",
   "execution_count": 34,
   "id": "b78af668",
   "metadata": {},
   "outputs": [
    {
     "data": {
      "text/html": [
       "<div>\n",
       "<style scoped>\n",
       "    .dataframe tbody tr th:only-of-type {\n",
       "        vertical-align: middle;\n",
       "    }\n",
       "\n",
       "    .dataframe tbody tr th {\n",
       "        vertical-align: top;\n",
       "    }\n",
       "\n",
       "    .dataframe thead th {\n",
       "        text-align: right;\n",
       "    }\n",
       "</style>\n",
       "<table border=\"1\" class=\"dataframe\">\n",
       "  <thead>\n",
       "    <tr style=\"text-align: right;\">\n",
       "      <th></th>\n",
       "      <th>PATIENT_ID</th>\n",
       "      <th>SUBTYPE</th>\n",
       "      <th>CANCER_TYPE_ACRONYM</th>\n",
       "      <th>OTHER_PATIENT_ID</th>\n",
       "      <th>AGE</th>\n",
       "      <th>SEX</th>\n",
       "      <th>AJCC_PATHOLOGIC_TUMOR_STAGE</th>\n",
       "      <th>AJCC_STAGING_EDITION</th>\n",
       "      <th>DAYS_LAST_FOLLOWUP</th>\n",
       "      <th>DAYS_TO_BIRTH</th>\n",
       "      <th>...</th>\n",
       "      <th>IN_PANCANPATHWAYS_FREEZE</th>\n",
       "      <th>OS_STATUS</th>\n",
       "      <th>OS_MONTHS</th>\n",
       "      <th>DSS_STATUS</th>\n",
       "      <th>DSS_MONTHS</th>\n",
       "      <th>DFS_STATUS</th>\n",
       "      <th>DFS_MONTHS</th>\n",
       "      <th>PFS_STATUS</th>\n",
       "      <th>PFS_MONTHS</th>\n",
       "      <th>GENETIC_ANCESTRY_LABEL</th>\n",
       "    </tr>\n",
       "  </thead>\n",
       "  <tbody>\n",
       "    <tr>\n",
       "      <th>373</th>\n",
       "      <td>TCGA-86-7953</td>\n",
       "      <td>LUAD</td>\n",
       "      <td>LUAD</td>\n",
       "      <td>54775a66-08cc-4f38-98f2-e7b2b5cec994</td>\n",
       "      <td>69.0</td>\n",
       "      <td>Female</td>\n",
       "      <td>STAGE IA</td>\n",
       "      <td>7TH</td>\n",
       "      <td>997.0</td>\n",
       "      <td>-25315.0</td>\n",
       "      <td>...</td>\n",
       "      <td>Yes</td>\n",
       "      <td>0:LIVING</td>\n",
       "      <td>32.777723</td>\n",
       "      <td>0:ALIVE OR DEAD TUMOR FREE</td>\n",
       "      <td>32.777723</td>\n",
       "      <td>0:DiseaseFree</td>\n",
       "      <td>32.777723</td>\n",
       "      <td>0:CENSORED</td>\n",
       "      <td>32.777723</td>\n",
       "      <td>EUR</td>\n",
       "    </tr>\n",
       "    <tr>\n",
       "      <th>374</th>\n",
       "      <td>TCGA-86-7954</td>\n",
       "      <td>LUAD</td>\n",
       "      <td>LUAD</td>\n",
       "      <td>079ae0b3-b64b-4b8e-ab7d-225b8046568c</td>\n",
       "      <td>68.0</td>\n",
       "      <td>Female</td>\n",
       "      <td>STAGE IB</td>\n",
       "      <td>7TH</td>\n",
       "      <td>605.0</td>\n",
       "      <td>-25062.0</td>\n",
       "      <td>...</td>\n",
       "      <td>Yes</td>\n",
       "      <td>0:LIVING</td>\n",
       "      <td>19.890193</td>\n",
       "      <td>0:ALIVE OR DEAD TUMOR FREE</td>\n",
       "      <td>19.890193</td>\n",
       "      <td>0:DiseaseFree</td>\n",
       "      <td>19.890193</td>\n",
       "      <td>0:CENSORED</td>\n",
       "      <td>19.890193</td>\n",
       "      <td>EUR</td>\n",
       "    </tr>\n",
       "    <tr>\n",
       "      <th>379</th>\n",
       "      <td>TCGA-86-8073</td>\n",
       "      <td>LUAD</td>\n",
       "      <td>LUAD</td>\n",
       "      <td>cd902d08-215e-4bd0-88e4-4fd01ab43cbf</td>\n",
       "      <td>58.0</td>\n",
       "      <td>Male</td>\n",
       "      <td>STAGE IB</td>\n",
       "      <td>7TH</td>\n",
       "      <td>740.0</td>\n",
       "      <td>-21214.0</td>\n",
       "      <td>...</td>\n",
       "      <td>Yes</td>\n",
       "      <td>0:LIVING</td>\n",
       "      <td>24.328501</td>\n",
       "      <td>0:ALIVE OR DEAD TUMOR FREE</td>\n",
       "      <td>24.328501</td>\n",
       "      <td>0:DiseaseFree</td>\n",
       "      <td>24.328501</td>\n",
       "      <td>0:CENSORED</td>\n",
       "      <td>24.328501</td>\n",
       "      <td>EUR</td>\n",
       "    </tr>\n",
       "  </tbody>\n",
       "</table>\n",
       "<p>3 rows × 38 columns</p>\n",
       "</div>"
      ],
      "text/plain": [
       "       PATIENT_ID SUBTYPE CANCER_TYPE_ACRONYM  \\\n",
       "373  TCGA-86-7953    LUAD                LUAD   \n",
       "374  TCGA-86-7954    LUAD                LUAD   \n",
       "379  TCGA-86-8073    LUAD                LUAD   \n",
       "\n",
       "                         OTHER_PATIENT_ID   AGE     SEX  \\\n",
       "373  54775a66-08cc-4f38-98f2-e7b2b5cec994  69.0  Female   \n",
       "374  079ae0b3-b64b-4b8e-ab7d-225b8046568c  68.0  Female   \n",
       "379  cd902d08-215e-4bd0-88e4-4fd01ab43cbf  58.0    Male   \n",
       "\n",
       "    AJCC_PATHOLOGIC_TUMOR_STAGE AJCC_STAGING_EDITION  DAYS_LAST_FOLLOWUP  \\\n",
       "373                    STAGE IA                  7TH               997.0   \n",
       "374                    STAGE IB                  7TH               605.0   \n",
       "379                    STAGE IB                  7TH               740.0   \n",
       "\n",
       "     DAYS_TO_BIRTH  ...  IN_PANCANPATHWAYS_FREEZE OS_STATUS  OS_MONTHS  \\\n",
       "373       -25315.0  ...                       Yes  0:LIVING  32.777723   \n",
       "374       -25062.0  ...                       Yes  0:LIVING  19.890193   \n",
       "379       -21214.0  ...                       Yes  0:LIVING  24.328501   \n",
       "\n",
       "                     DSS_STATUS DSS_MONTHS     DFS_STATUS DFS_MONTHS  \\\n",
       "373  0:ALIVE OR DEAD TUMOR FREE  32.777723  0:DiseaseFree  32.777723   \n",
       "374  0:ALIVE OR DEAD TUMOR FREE  19.890193  0:DiseaseFree  19.890193   \n",
       "379  0:ALIVE OR DEAD TUMOR FREE  24.328501  0:DiseaseFree  24.328501   \n",
       "\n",
       "     PFS_STATUS PFS_MONTHS GENETIC_ANCESTRY_LABEL  \n",
       "373  0:CENSORED  32.777723                    EUR  \n",
       "374  0:CENSORED  19.890193                    EUR  \n",
       "379  0:CENSORED  24.328501                    EUR  \n",
       "\n",
       "[3 rows x 38 columns]"
      ]
     },
     "execution_count": 34,
     "metadata": {},
     "output_type": "execute_result"
    }
   ],
   "source": [
    "df_clinical[df_clinical[morhpology_col] == \"8250/3\"]"
   ]
  },
  {
   "cell_type": "code",
   "execution_count": 35,
   "id": "c506e8ae",
   "metadata": {},
   "outputs": [],
   "source": [
    "df_clinical[\"HISTOLOGIC_SUBTYPE\"] = df_clinical[morhpology_col].map(histology_map)"
   ]
  },
  {
   "cell_type": "code",
   "execution_count": 36,
   "id": "26a612a6",
   "metadata": {},
   "outputs": [
    {
     "data": {
      "text/plain": [
       "array(['Adenocarcinoma, NOS', 'Adenocarcinoma with mixed subtypes',\n",
       "       'Acinar cell carcinoma', 'Mucinous adenocarcinoma',\n",
       "       'Papillary adenocarcinoma, NOS', 'Clear cell adenocarcinoma, NOS',\n",
       "       'Bronchiolo-alveolar carcinoma, non-mucinous',\n",
       "       'Invasive mucinous adenocarcinoma', 'Solid carcinoma, NOS',\n",
       "       'Invasive micropapillary carcinoma', 'Lepidic adenocarcinoma',\n",
       "       'Signet ring cell carcinoma', nan], dtype=object)"
      ]
     },
     "execution_count": 36,
     "metadata": {},
     "output_type": "execute_result"
    }
   ],
   "source": [
    "df_clinical[\"HISTOLOGIC_SUBTYPE\"].unique()"
   ]
  },
  {
   "cell_type": "code",
   "execution_count": 37,
   "id": "6251e7db",
   "metadata": {},
   "outputs": [],
   "source": [
    "subtype_counts = df_clinical[\"HISTOLOGIC_SUBTYPE\"].value_counts().sort_values(ascending=False)"
   ]
  },
  {
   "cell_type": "code",
   "execution_count": 38,
   "id": "986fcc71",
   "metadata": {},
   "outputs": [
    {
     "data": {
      "text/plain": [
       "HISTOLOGIC_SUBTYPE\n",
       "Adenocarcinoma, NOS                            310\n",
       "Adenocarcinoma with mixed subtypes             107\n",
       "Acinar cell carcinoma                           24\n",
       "Papillary adenocarcinoma, NOS                   21\n",
       "Bronchiolo-alveolar carcinoma, non-mucinous     19\n",
       "Mucinous adenocarcinoma                         14\n",
       "Invasive mucinous adenocarcinoma                 5\n",
       "Solid carcinoma, NOS                             5\n",
       "Lepidic adenocarcinoma                           3\n",
       "Invasive micropapillary carcinoma                3\n",
       "Clear cell adenocarcinoma, NOS                   2\n",
       "Signet ring cell carcinoma                       1\n",
       "Name: count, dtype: int64"
      ]
     },
     "execution_count": 38,
     "metadata": {},
     "output_type": "execute_result"
    }
   ],
   "source": [
    "subtype_counts"
   ]
  },
  {
   "cell_type": "code",
   "execution_count": null,
   "id": "1610431c",
   "metadata": {},
   "outputs": [],
   "source": []
  }
 ],
 "metadata": {
  "kernelspec": {
   "display_name": "torch",
   "language": "python",
   "name": "python3"
  },
  "language_info": {
   "codemirror_mode": {
    "name": "ipython",
    "version": 3
   },
   "file_extension": ".py",
   "mimetype": "text/x-python",
   "name": "python",
   "nbconvert_exporter": "python",
   "pygments_lexer": "ipython3",
   "version": "3.12.2"
  }
 },
 "nbformat": 4,
 "nbformat_minor": 5
}
